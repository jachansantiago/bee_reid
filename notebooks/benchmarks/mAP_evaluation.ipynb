{
 "cells": [
  {
   "cell_type": "code",
   "execution_count": 1,
   "id": "complete-thumbnail",
   "metadata": {},
   "outputs": [],
   "source": [
    "import pandas as pd\n",
    "import tensorflow as tf\n",
    "from tensorflow.keras.models import load_model\n",
    "from beeid2.models import simple_cnnv2, ContrastiveLearning\n",
    "from beeid2.data_utils import filename2image\n",
    "from beeid2.evaluation import mAP_evaluation, mAP_track_model_evaluation, cmc_track_model_evaluation\n",
    "import numpy as np\n",
    "import matplotlib.pyplot as plt\n",
    "from sklearn.metrics import precision_recall_curve, auc\n",
    "from tqdm import tqdm\n",
    "import glob\n",
    "\n",
    "def to_np_array(values, dim=128):\n",
    "    return np.concatenate(list(values)).reshape(-1, dim)\n"
   ]
  },
  {
   "cell_type": "code",
   "execution_count": 6,
   "id": "ongoing-accuracy",
   "metadata": {},
   "outputs": [
    {
     "name": "stdout",
     "output_type": "stream",
     "text": [
      " 1/13 [=>............................] - ETA: 0sWARNING:tensorflow:Callbacks method `on_predict_batch_end` is slow compared to the batch time (batch time: 0.0047s vs `on_predict_batch_end` time: 0.0241s). Check your callbacks.\n",
      "13/13 [==============================] - 1s 100ms/step\n"
     ]
    },
    {
     "name": "stderr",
     "output_type": "stream",
     "text": [
      "  1%|          | 7/654 [00:00<00:09, 65.77it/s]"
     ]
    },
    {
     "name": "stdout",
     "output_type": "stream",
     "text": [
      "Evaluating 654 tracks.\n"
     ]
    },
    {
     "name": "stderr",
     "output_type": "stream",
     "text": [
      "100%|██████████| 654/654 [00:11<00:00, 55.77it/s]\n"
     ]
    },
    {
     "name": "stdout",
     "output_type": "stream",
     "text": [
      "Evaluating 3173 queries.\n",
      "13/13 [==============================] - 1s 82ms/step\n"
     ]
    },
    {
     "name": "stderr",
     "output_type": "stream",
     "text": [
      "  0%|          | 0/654 [00:00<?, ?it/s]"
     ]
    },
    {
     "name": "stdout",
     "output_type": "stream",
     "text": [
      "Evaluating 654 tracks.\n"
     ]
    },
    {
     "name": "stderr",
     "output_type": "stream",
     "text": [
      "100%|██████████| 654/654 [00:13<00:00, 48.76it/s]\n"
     ]
    },
    {
     "name": "stdout",
     "output_type": "stream",
     "text": [
      "Evaluating 3173 queries.\n",
      "13/13 [==============================] - 1s 85ms/step\n"
     ]
    },
    {
     "name": "stderr",
     "output_type": "stream",
     "text": [
      "  0%|          | 0/654 [00:00<?, ?it/s]"
     ]
    },
    {
     "name": "stdout",
     "output_type": "stream",
     "text": [
      "Evaluating 654 tracks.\n"
     ]
    },
    {
     "name": "stderr",
     "output_type": "stream",
     "text": [
      "100%|██████████| 654/654 [00:12<00:00, 52.62it/s]\n"
     ]
    },
    {
     "name": "stdout",
     "output_type": "stream",
     "text": [
      "Evaluating 3173 queries.\n",
      "13/13 [==============================] - 1s 86ms/step\n"
     ]
    },
    {
     "name": "stderr",
     "output_type": "stream",
     "text": [
      "  0%|          | 0/654 [00:00<?, ?it/s]"
     ]
    },
    {
     "name": "stdout",
     "output_type": "stream",
     "text": [
      "Evaluating 654 tracks.\n"
     ]
    },
    {
     "name": "stderr",
     "output_type": "stream",
     "text": [
      "100%|██████████| 654/654 [00:13<00:00, 50.12it/s]\n"
     ]
    },
    {
     "name": "stdout",
     "output_type": "stream",
     "text": [
      "Evaluating 3173 queries.\n",
      "13/13 [==============================] - 1s 84ms/step\n"
     ]
    },
    {
     "name": "stderr",
     "output_type": "stream",
     "text": [
      "  0%|          | 0/654 [00:00<?, ?it/s]"
     ]
    },
    {
     "name": "stdout",
     "output_type": "stream",
     "text": [
      "Evaluating 654 tracks.\n"
     ]
    },
    {
     "name": "stderr",
     "output_type": "stream",
     "text": [
      "100%|██████████| 654/654 [00:13<00:00, 49.77it/s]\n"
     ]
    },
    {
     "name": "stdout",
     "output_type": "stream",
     "text": [
      "Evaluating 3173 queries.\n",
      "13/13 [==============================] - 1s 84ms/step\n"
     ]
    },
    {
     "name": "stderr",
     "output_type": "stream",
     "text": [
      "  0%|          | 0/654 [00:00<?, ?it/s]"
     ]
    },
    {
     "name": "stdout",
     "output_type": "stream",
     "text": [
      "Evaluating 654 tracks.\n"
     ]
    },
    {
     "name": "stderr",
     "output_type": "stream",
     "text": [
      "100%|██████████| 654/654 [00:12<00:00, 52.02it/s]\n"
     ]
    },
    {
     "name": "stdout",
     "output_type": "stream",
     "text": [
      "Evaluating 3173 queries.\n",
      "13/13 [==============================] - 1s 84ms/step\n"
     ]
    },
    {
     "name": "stderr",
     "output_type": "stream",
     "text": [
      "  0%|          | 0/654 [00:00<?, ?it/s]"
     ]
    },
    {
     "name": "stdout",
     "output_type": "stream",
     "text": [
      "Evaluating 654 tracks.\n"
     ]
    },
    {
     "name": "stderr",
     "output_type": "stream",
     "text": [
      "100%|██████████| 654/654 [00:12<00:00, 52.39it/s]\n"
     ]
    },
    {
     "name": "stdout",
     "output_type": "stream",
     "text": [
      "Evaluating 3173 queries.\n",
      "13/13 [==============================] - 1s 84ms/step\n"
     ]
    },
    {
     "name": "stderr",
     "output_type": "stream",
     "text": [
      "  0%|          | 0/654 [00:00<?, ?it/s]"
     ]
    },
    {
     "name": "stdout",
     "output_type": "stream",
     "text": [
      "Evaluating 654 tracks.\n"
     ]
    },
    {
     "name": "stderr",
     "output_type": "stream",
     "text": [
      "100%|██████████| 654/654 [00:11<00:00, 55.62it/s]"
     ]
    },
    {
     "name": "stdout",
     "output_type": "stream",
     "text": [
      "Evaluating 3173 queries.\n"
     ]
    },
    {
     "name": "stderr",
     "output_type": "stream",
     "text": [
      "\n"
     ]
    }
   ],
   "source": [
    "benchmark = dict()\n",
    "models_files = glob.glob(\"../../models4/*/*.tf\")\n",
    "for model_file in models_files:\n",
    "    model = load_model(model_file)\n",
    "    benchmark[model_file] = mAP_evaluation(model)"
   ]
  },
  {
   "cell_type": "code",
   "execution_count": 5,
   "id": "christian-discharge",
   "metadata": {},
   "outputs": [
    {
     "data": {
      "text/plain": [
       "{}"
      ]
     },
     "execution_count": 5,
     "metadata": {},
     "output_type": "execute_result"
    }
   ],
   "source": []
  },
  {
   "cell_type": "code",
   "execution_count": 3,
   "id": "departmental-queue",
   "metadata": {},
   "outputs": [
    {
     "data": {
      "text/plain": [
       "<AxesSubplot:xlabel='model'>"
      ]
     },
     "execution_count": 3,
     "metadata": {},
     "output_type": "execute_result"
    },
    {
     "data": {
      "image/png": "[encoded data removed]",
      "text/plain": [
       "<Figure size 432x288 with 1 Axes>"
      ]
     },
     "metadata": {
      "needs_background": "light"
     },
     "output_type": "display_data"
    }
   ],
   "source": [
    "pd.DataFrame({ \"model\":benchmark.keys(), \"mAP\": benchmark.values()}).plot.bar(x=\"model\")"
   ]
  },
  {
   "cell_type": "code",
   "execution_count": 2,
   "id": "difficult-antigua",
   "metadata": {},
   "outputs": [],
   "source": [
    "MODEL = \"../../models2/2111240952_tagged_augmentataion_untagged_augmentataion_simplecnnv2_convb3_dim_128/model.tf\""
   ]
  },
  {
   "cell_type": "code",
   "execution_count": 5,
   "id": "under-traffic",
   "metadata": {},
   "outputs": [
    {
     "name": "stdout",
     "output_type": "stream",
     "text": [
      "Model: \"sequential_1\"\n",
      "_________________________________________________________________\n",
      "Layer (type)                 Output Shape              Param #   \n",
      "=================================================================\n",
      "time_distributed_1 (TimeDist (None, 4, 128)            1815040   \n",
      "_________________________________________________________________\n",
      "lambda_2 (Lambda)            (None, 128)               0         \n",
      "=================================================================\n",
      "Total params: 1,815,040\n",
      "Trainable params: 1,814,336\n",
      "Non-trainable params: 704\n",
      "_________________________________________________________________\n",
      "228/228 [==============================] - 1s 3ms/step\n",
      "Evaluating 228 tracks.\n",
      "Evaluating 198 queries.\n"
     ]
    },
    {
     "data": {
      "text/plain": [
       "0.6265073876751738"
      ]
     },
     "execution_count": 5,
     "metadata": {},
     "output_type": "execute_result"
    }
   ],
   "source": [
    "TRACK_LEN=4\n",
    "batch_size = 1\n",
    "\n",
    "def random_sampling(x):\n",
    "    rand_idx = tf.random.uniform(shape=[], maxval=TRACK_LEN, dtype=tf.int32)\n",
    "    return x[:, rand_idx, :]\n",
    "    \n",
    "\n",
    "base_model = load_model(MODEL)\n",
    "track_model = tf.keras.Sequential()\n",
    "track_model.add(tf.keras.layers.TimeDistributed(base_model, input_shape=(TRACK_LEN, 56, 56, 3)))\n",
    "track_model.add(tf.keras.layers.Lambda(random_sampling))\n",
    "track_model.summary()\n",
    "\n",
    "mAP_track_model_evaluation(track_model, track_len=TRACK_LEN, timegap=15, timegap_unit=\"m\", batch_size=batch_size)\n",
    "# results = list()\n",
    "# for i in tqdm(range(100)):\n",
    "#     r = mAP_track_model_evaluation(track_model, track_len=TRACK_LEN, timegap=15, timegap_unit=\"m\", batch_size=batch_size)\n",
    "#     results.append(r)\n",
    "# np.mean(results)"
   ]
  },
  {
   "cell_type": "code",
   "execution_count": 6,
   "id": "celtic-starter",
   "metadata": {},
   "outputs": [
    {
     "name": "stdout",
     "output_type": "stream",
     "text": [
      "228/228 [==============================] - 1s 3ms/step\n",
      "Evaluating 228 tracks.\n",
      "Evaluating 43 queries.\n"
     ]
    },
    {
     "data": {
      "text/plain": [
       "0.45018842916725926"
      ]
     },
     "execution_count": 6,
     "metadata": {},
     "output_type": "execute_result"
    }
   ],
   "source": [
    "mAP_track_model_evaluation(track_model, track_len=TRACK_LEN, timegap=1, timegap_unit=\"D\", batch_size=batch_size)"
   ]
  },
  {
   "cell_type": "code",
   "execution_count": 3,
   "id": "right-simpson",
   "metadata": {},
   "outputs": [
    {
     "name": "stdout",
     "output_type": "stream",
     "text": [
      "Model: \"sequential\"\n",
      "_________________________________________________________________\n",
      "Layer (type)                 Output Shape              Param #   \n",
      "=================================================================\n",
      "time_distributed (TimeDistri (None, 4, 128)            1815040   \n",
      "_________________________________________________________________\n",
      "lambda_1 (Lambda)            (None, 128)               0         \n",
      "=================================================================\n",
      "Total params: 1,815,040\n",
      "Trainable params: 1,814,336\n",
      "Non-trainable params: 704\n",
      "_________________________________________________________________\n",
      "4/4 [==============================] - 1s 125ms/step\n",
      "Evaluating 228 tracks.\n",
      "Evaluating 198 queries.\n"
     ]
    },
    {
     "data": {
      "text/plain": [
       "0.7840960498992582"
      ]
     },
     "execution_count": 3,
     "metadata": {},
     "output_type": "execute_result"
    }
   ],
   "source": [
    "TRACK_LEN=4\n",
    "base_model = load_model(MODEL)\n",
    "track_model = tf.keras.Sequential()\n",
    "track_model.add(tf.keras.layers.TimeDistributed(base_model, input_shape=(TRACK_LEN, 56, 56, 3)))\n",
    "track_model.add(tf.keras.layers.Lambda(lambda x: tf.math.reduce_mean(x, axis=1)))\n",
    "track_model.summary()\n",
    "\n",
    "mAP_track_model_evaluation(track_model, track_len=TRACK_LEN, timegap=15, timegap_unit=\"m\")"
   ]
  },
  {
   "cell_type": "code",
   "execution_count": 4,
   "id": "proof-mozambique",
   "metadata": {},
   "outputs": [
    {
     "name": "stdout",
     "output_type": "stream",
     "text": [
      "4/4 [==============================] - 0s 83ms/step\n",
      "Evaluating 228 tracks.\n",
      "Evaluating 43 queries.\n"
     ]
    },
    {
     "data": {
      "text/plain": [
       "0.5752394245766895"
      ]
     },
     "execution_count": 4,
     "metadata": {},
     "output_type": "execute_result"
    }
   ],
   "source": [
    "mAP_track_model_evaluation(track_model, track_len=TRACK_LEN, timegap=1, timegap_unit=\"D\")"
   ]
  },
  {
   "cell_type": "code",
   "execution_count": 2,
   "id": "acknowledged-automation",
   "metadata": {},
   "outputs": [],
   "source": [
    "TRACK_LEN=4\n",
    "track_model = load_model(\"track_models/2110252243_untagged_augmentataion_Track_mean_simplecnnv2_convb3_dim_128/model.tf\")\n",
    "\n",
    "\n"
   ]
  },
  {
   "cell_type": "code",
   "execution_count": 5,
   "id": "minus-billy",
   "metadata": {},
   "outputs": [],
   "source": [
    "track_model.compile()"
   ]
  },
  {
   "cell_type": "code",
   "execution_count": 3,
   "id": "identified-grain",
   "metadata": {},
   "outputs": [
    {
     "name": "stdout",
     "output_type": "stream",
     "text": [
      "Model: \"sequential\"\n",
      "_________________________________________________________________\n",
      "Layer (type)                 Output Shape              Param #   \n",
      "=================================================================\n",
      "time_distributed (TimeDistri (None, 4, 128)            1815040   \n",
      "_________________________________________________________________\n",
      "track_distance_loss (TrackDi (None, 4, 128)            0         \n",
      "_________________________________________________________________\n",
      "lambda_1 (Lambda)            (None, 128)               0         \n",
      "_________________________________________________________________\n",
      "lambda_2 (Lambda)            (None, 128)               0         \n",
      "=================================================================\n",
      "Total params: 1,815,040\n",
      "Trainable params: 1,814,336\n",
      "Non-trainable params: 704\n",
      "_________________________________________________________________\n"
     ]
    }
   ],
   "source": [
    "track_model.summary()"
   ]
  },
  {
   "cell_type": "code",
   "execution_count": 5,
   "id": "alive-hayes",
   "metadata": {},
   "outputs": [
    {
     "name": "stdout",
     "output_type": "stream",
     "text": [
      "Model: \"simplecnnv2_convb3_dim_128\"\n",
      "__________________________________________________________________________________________________\n",
      "Layer (type)                    Output Shape         Param #     Connected to                     \n",
      "==================================================================================================\n",
      "input_1 (InputLayer)            [(None, 56, 56, 3)]  0                                            \n",
      "__________________________________________________________________________________________________\n",
      "conv2d (Conv2D)                 (None, 56, 56, 32)   4736        input_1[0][0]                    \n",
      "__________________________________________________________________________________________________\n",
      "batch_normalization (BatchNorma (None, 56, 56, 32)   128         conv2d[1][0]                     \n",
      "__________________________________________________________________________________________________\n",
      "activation (Activation)         (None, 56, 56, 32)   0           batch_normalization[1][0]        \n",
      "__________________________________________________________________________________________________\n",
      "conv2d_1 (Conv2D)               (None, 56, 56, 64)   18496       activation[1][0]                 \n",
      "__________________________________________________________________________________________________\n",
      "batch_normalization_1 (BatchNor (None, 56, 56, 64)   256         conv2d_1[1][0]                   \n",
      "__________________________________________________________________________________________________\n",
      "activation_1 (Activation)       (None, 56, 56, 64)   0           batch_normalization_1[1][0]      \n",
      "__________________________________________________________________________________________________\n",
      "conv2d_2 (Conv2D)               (None, 56, 56, 64)   36928       activation_1[1][0]               \n",
      "__________________________________________________________________________________________________\n",
      "max_pooling2d (MaxPooling2D)    (None, 28, 28, 64)   0           conv2d_2[1][0]                   \n",
      "__________________________________________________________________________________________________\n",
      "batch_normalization_2 (BatchNor (None, 28, 28, 64)   256         max_pooling2d[1][0]              \n",
      "__________________________________________________________________________________________________\n",
      "activation_2 (Activation)       (None, 28, 28, 64)   0           batch_normalization_2[1][0]      \n",
      "__________________________________________________________________________________________________\n",
      "conv2d_3 (Conv2D)               (None, 28, 28, 64)   36928       activation_2[1][0]               \n",
      "__________________________________________________________________________________________________\n",
      "batch_normalization_3 (BatchNor (None, 28, 28, 64)   256         conv2d_3[1][0]                   \n",
      "__________________________________________________________________________________________________\n",
      "activation_3 (Activation)       (None, 28, 28, 64)   0           batch_normalization_3[1][0]      \n",
      "__________________________________________________________________________________________________\n",
      "conv2d_4 (Conv2D)               (None, 28, 28, 64)   36928       activation_3[1][0]               \n",
      "__________________________________________________________________________________________________\n",
      "add (Add)                       (None, 28, 28, 64)   0           max_pooling2d[1][0]              \n",
      "                                                                 conv2d_4[1][0]                   \n",
      "__________________________________________________________________________________________________\n",
      "max_pooling2d_1 (MaxPooling2D)  (None, 14, 14, 64)   0           add[1][0]                        \n",
      "__________________________________________________________________________________________________\n",
      "batch_normalization_4 (BatchNor (None, 14, 14, 64)   256         max_pooling2d_1[1][0]            \n",
      "__________________________________________________________________________________________________\n",
      "activation_4 (Activation)       (None, 14, 14, 64)   0           batch_normalization_4[1][0]      \n",
      "__________________________________________________________________________________________________\n",
      "conv2d_5 (Conv2D)               (None, 14, 14, 64)   36928       activation_4[1][0]               \n",
      "__________________________________________________________________________________________________\n",
      "batch_normalization_5 (BatchNor (None, 14, 14, 64)   256         conv2d_5[1][0]                   \n",
      "__________________________________________________________________________________________________\n",
      "activation_5 (Activation)       (None, 14, 14, 64)   0           batch_normalization_5[1][0]      \n",
      "__________________________________________________________________________________________________\n",
      "conv2d_6 (Conv2D)               (None, 14, 14, 64)   36928       activation_5[1][0]               \n",
      "__________________________________________________________________________________________________\n",
      "add_1 (Add)                     (None, 14, 14, 64)   0           max_pooling2d_1[1][0]            \n",
      "                                                                 conv2d_6[1][0]                   \n",
      "__________________________________________________________________________________________________\n",
      "flatten (Flatten)               (None, 12544)        0           add_1[1][0]                      \n",
      "__________________________________________________________________________________________________\n",
      "dropout (Dropout)               (None, 12544)        0           flatten[1][0]                    \n",
      "__________________________________________________________________________________________________\n",
      "dense (Dense)                   (None, 128)          1605760     dropout[1][0]                    \n",
      "__________________________________________________________________________________________________\n",
      "dropout_1 (Dropout)             (None, 128)          0           dense[1][0]                      \n",
      "__________________________________________________________________________________________________\n",
      "lambda (Lambda)                 (None, 128)          0           dropout_1[1][0]                  \n",
      "==================================================================================================\n",
      "Total params: 1,815,040\n",
      "Trainable params: 1,814,336\n",
      "Non-trainable params: 704\n",
      "__________________________________________________________________________________________________\n"
     ]
    }
   ],
   "source": [
    "track_model.layers[0].layer.summary()"
   ]
  },
  {
   "cell_type": "code",
   "execution_count": 17,
   "id": "absolute-environment",
   "metadata": {},
   "outputs": [
    {
     "name": "stdout",
     "output_type": "stream",
     "text": [
      "4/4 [==============================] - 0s 83ms/step\n",
      "Evaluating 228 tracks.\n",
      "Evaluating 198 queries.\n"
     ]
    },
    {
     "data": {
      "text/plain": [
       "0.7738738512041109"
      ]
     },
     "execution_count": 17,
     "metadata": {},
     "output_type": "execute_result"
    }
   ],
   "source": [
    "mAP_track_model_evaluation(track_model, track_len=TRACK_LEN, timegap=15, timegap_unit=\"m\")"
   ]
  },
  {
   "cell_type": "code",
   "execution_count": 27,
   "id": "wrapped-partner",
   "metadata": {},
   "outputs": [
    {
     "name": "stdout",
     "output_type": "stream",
     "text": [
      "11/11 [==============================] - 1s 115ms/step\n"
     ]
    },
    {
     "data": {
      "text/plain": [
       "array([0.77168421, 0.8825    , 0.92689474, 0.95052632, 0.9705    ,\n",
       "       0.98857895, 0.99152632, 0.99586842, 0.99726316, 0.99744737])"
      ]
     },
     "execution_count": 27,
     "metadata": {},
     "output_type": "execute_result"
    }
   ],
   "source": [
    "sd = pd.read_csv(\"../../data/test_same_hour3.csv\")\n",
    "sd = sd[sd.image_id < (10 + 2)]\n",
    "sd_ranks = cmc_track_model_evaluation(track_model, sd)\n",
    "sd_ranks"
   ]
  },
  {
   "cell_type": "code",
   "execution_count": 24,
   "id": "combined-fraction",
   "metadata": {},
   "outputs": [
    {
     "name": "stdout",
     "output_type": "stream",
     "text": [
      "11/11 [==============================] - 1s 115ms/step\n"
     ]
    },
    {
     "data": {
      "text/plain": [
       "array([0.65472574, 0.79873418, 0.87050633, 0.91848101, 0.95662447,\n",
       "       0.98367089, 0.99548523, 0.99907173, 1.        , 1.        ])"
      ]
     },
     "execution_count": 24,
     "metadata": {},
     "output_type": "execute_result"
    }
   ],
   "source": [
    "dfsd = pd.read_csv(\"../../data/test_different_day_same_hour3.csv\")\n",
    "dfsd = dfsd[dfsd.image_id < (10 + 2)]\n",
    "dfsd_ranks = cmc_track_model_evaluation(track_model, dfsd)\n",
    "dfsd_ranks"
   ]
  },
  {
   "cell_type": "code",
   "execution_count": 25,
   "id": "checked-convergence",
   "metadata": {},
   "outputs": [
    {
     "name": "stdout",
     "output_type": "stream",
     "text": [
      "11/11 [==============================] - 2s 170ms/step\n"
     ]
    },
    {
     "data": {
      "text/plain": [
       "array([0.55703752, 0.71493088, 0.81727452, 0.8779921 , 0.92404213,\n",
       "       0.95117182, 0.97009217, 0.98454905, 0.99242265, 0.99740619])"
      ]
     },
     "execution_count": 25,
     "metadata": {},
     "output_type": "execute_result"
    }
   ],
   "source": [
    "df = pd.read_csv(\"../../data/test_different_day3.csv\")\n",
    "df = df[df.image_id < (10 + 2)]\n",
    "df_ranks = cmc_track_model_evaluation(track_model, df)\n",
    "df_ranks"
   ]
  },
  {
   "cell_type": "code",
   "execution_count": 21,
   "id": "uniform-arabic",
   "metadata": {},
   "outputs": [
    {
     "data": {
      "text/plain": [
       "<matplotlib.legend.Legend at 0x7f43446caa58>"
      ]
     },
     "execution_count": 21,
     "metadata": {},
     "output_type": "execute_result"
    },
    {
     "data": {
      "image/png": "[encoded data removed]",
      "text/plain": [
       "<Figure size 1440x720 with 1 Axes>"
      ]
     },
     "metadata": {
      "needs_background": "light"
     },
     "output_type": "display_data"
    }
   ],
   "source": [
    "\n",
    "x = np.arange(1, 10 + 1)\n",
    "plt.figure(figsize=(20, 10))\n",
    "plt.plot(x, dfsd_ranks, 'bo-', markersize=8,\n",
    "         linewidth=2, label=\"different_day_same_hour\")\n",
    "# plt.plot(x, triplet_df[\"valid_cmc_only_train_ids\"], 'b-', linewidth=2)\n",
    "\n",
    "plt.plot(x, df_ranks, 'r^-', markersize=8,\n",
    "         linewidth=2, label=\"different_day\")\n",
    "\n",
    "plt.plot(x, sd_ranks, '^-', color=\"orange\", markersize=8,\n",
    "         linewidth=2, label=\"same_hour\")\n",
    "\n",
    "plt.plot(x, x/11, ':', linewidth=2, color=\"gray\")\n",
    "plt.grid(True)\n",
    "plt.ylim(0.0, 1.0)\n",
    "plt.yticks(np.arange(0, 1.05, 0.05));\n",
    "plt.xticks(np.arange(1, 10 + 1, 1));\n",
    "plt.xlabel(\"Rank\")\n",
    "plt.ylabel(\"Matching Rate %\")\n",
    "plt.tick_params(axis='y', which='minor', bottom=False)\n",
    "plt.title(\"Test dataset same hour Key-Query pair.\");\n",
    "plt.legend()"
   ]
  },
  {
   "cell_type": "code",
   "execution_count": null,
   "id": "recorded-accident",
   "metadata": {},
   "outputs": [],
   "source": []
  }
 ],
 "metadata": {
  "kernelspec": {
   "display_name": "bees",
   "language": "python",
   "name": "bees"
  },
  "language_info": {
   "codemirror_mode": {
    "name": "ipython",
    "version": 3
   },
   "file_extension": ".py",
   "mimetype": "text/x-python",
   "name": "python",
   "nbconvert_exporter": "python",
   "pygments_lexer": "ipython3",
   "version": "3.7.3"
  }
 },
 "nbformat": 4,
 "nbformat_minor": 5
}
