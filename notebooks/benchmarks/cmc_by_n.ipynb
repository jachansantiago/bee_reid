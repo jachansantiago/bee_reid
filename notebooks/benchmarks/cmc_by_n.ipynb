{
 "cells": [
  {
   "cell_type": "code",
   "execution_count": 1,
   "id": "tutorial-minority",
   "metadata": {},
   "outputs": [],
   "source": [
    "import os\n",
    "os.environ[\"CUDA_DEVICE_ORDER\"]=\"PCI_BUS_ID\"   # see issue #152\n",
    "os.environ[\"CUDA_VISIBLE_DEVICES\"]=\"1\""
   ]
  },
  {
   "cell_type": "code",
   "execution_count": 2,
   "id": "uniform-medicare",
   "metadata": {},
   "outputs": [],
   "source": [
    "import pandas as pd\n",
    "import tensorflow as tf\n",
    "from tensorflow.keras.models import load_model\n",
    "from beeid2.models import simple_cnnv2, ContrastiveLearning\n",
    "from beeid2.data_utils import filename2image\n",
    "from beeid2.evaluation import full_evaluation\n",
    "import numpy as np\n",
    "import matplotlib.pyplot as plt\n",
    "from sklearn.metrics import precision_recall_curve, auc\n",
    "from tqdm import tqdm\n",
    "import glob\n",
    "\n",
    "def to_np_array(values, dim=128):\n",
    "    return np.concatenate(list(values)).reshape(-1, dim)\n"
   ]
  },
  {
   "cell_type": "code",
   "execution_count": 3,
   "id": "brave-commodity",
   "metadata": {},
   "outputs": [],
   "source": [
    "distractos_sizes = [10, 15, 20, 25, 30, 40, 50, 60, 70, 80, 90, 100, 110, 120]"
   ]
  },
  {
   "cell_type": "code",
   "execution_count": 4,
   "id": "expensive-sunset",
   "metadata": {},
   "outputs": [],
   "source": [
    "MODEL = \"../../models2/2111240952_tagged_augmentataion_untagged_augmentataion_simplecnnv2_convb3_dim_128/model.tf\""
   ]
  },
  {
   "cell_type": "code",
   "execution_count": 5,
   "id": "still-boulder",
   "metadata": {},
   "outputs": [],
   "source": [
    "base_model = load_model(MODEL)"
   ]
  },
  {
   "cell_type": "code",
   "execution_count": null,
   "id": "final-integrity",
   "metadata": {},
   "outputs": [
    {
     "name": "stdout",
     "output_type": "stream",
     "text": [
      "14250/14250 [==============================] - 159s 11ms/step\n",
      "2492/8888 [=======>......................] - ETA: 1:10"
     ]
    }
   ],
   "source": [
    "for n_distractors in distractos_sizes:\n",
    "    filename = f\"cmc_n/{n_distractors}.csv\"\n",
    "    full_evaluation(filename, base_model, n_distractors=n_distractors)"
   ]
  },
  {
   "cell_type": "code",
   "execution_count": null,
   "id": "dated-gregory",
   "metadata": {},
   "outputs": [],
   "source": []
  }
 ],
 "metadata": {
  "kernelspec": {
   "display_name": "bees",
   "language": "python",
   "name": "bees"
  },
  "language_info": {
   "codemirror_mode": {
    "name": "ipython",
    "version": 3
   },
   "file_extension": ".py",
   "mimetype": "text/x-python",
   "name": "python",
   "nbconvert_exporter": "python",
   "pygments_lexer": "ipython3",
   "version": "3.7.3"
  }
 },
 "nbformat": 4,
 "nbformat_minor": 5
}
