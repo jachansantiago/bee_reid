{
 "cells": [
  {
   "cell_type": "code",
   "execution_count": 32,
   "id": "acoustic-treat",
   "metadata": {},
   "outputs": [],
   "source": [
    "import tensorflow as tf\n",
    "from tensorflow.keras.models import load_model\n",
    "from tensorflow_addons.losses import TripletSemiHardLoss, TripletHardLoss\n",
    "from beeid2.data_utils import filename2image\n",
    "import pandas as pd\n",
    "import numpy as np\n",
    "from collections import defaultdict\n",
    "from tqdm import tqdm\n",
    "import matplotlib.pyplot as plt\n",
    "\n",
    "TEST_CSV = \"/home/jchan/beeid/notebooks/cmc_experiments/data/test_unnormalized.csv\"\n",
    "\n",
    "batch_size=32\n",
    "\n",
    "def to_np_array(values, dim=128):\n",
    "    return np.concatenate(list(values)).reshape(-1, dim)\n",
    "\n",
    "def get_shortterm_mean_dist(test_df):    \n",
    "    gtracks = test_df.groupby(\"global_track_id\").filter(lambda x: len(x) > 1)\n",
    "    means = list()\n",
    "    for tid in gtracks.global_track_id.unique():\n",
    "        track_embs = gtracks[gtracks.global_track_id == tid].emb.values\n",
    "        track_embs = to_np_array(track_embs)\n",
    "        dmatrix = 1 - tf.matmul(track_embs, track_embs.T).numpy()\n",
    "        distances = dmatrix[np.triu_indices(dmatrix.shape[0], k = 1)].mean()\n",
    "        means.append(distances)\n",
    "    print(f\"short-term comparisons: {len(means)}\")\n",
    "    return np.mean(means), means\n",
    "\n",
    "def get_shortterm_diameter(test_df):    \n",
    "    gtracks = test_df.groupby(\"global_track_id\").filter(lambda x: len(x) > 1)\n",
    "    means = list()\n",
    "    for tid in gtracks.global_track_id.unique():\n",
    "        track_embs = gtracks[gtracks.global_track_id == tid].emb.values\n",
    "        track_embs = to_np_array(track_embs)\n",
    "        dmatrix = 1 - tf.matmul(track_embs, track_embs.T).numpy()\n",
    "        distances = dmatrix[np.triu_indices(dmatrix.shape[0], k = 1)].max()\n",
    "        means.append(distances)\n",
    "    return np.mean(means), means\n",
    "\n",
    "def get_longterm_mean_dist(test_df):\n",
    "    timegap=15\n",
    "    timegap_unit=\"m\"\n",
    "    gtracks = test_df.groupby(\"track_tag_id\").filter(lambda x: len(x[\"global_track_id\"].unique()) > 1)\n",
    "    gtracks = gtracks.global_track_id.unique()\n",
    "\n",
    "    distances = []\n",
    "    eval_tracks = len(gtracks)\n",
    "    print(\"Evaluating {} tracks.\".format(eval_tracks))\n",
    "    count = 0\n",
    "    queries_num = 0\n",
    "    tag_id_dist = defaultdict(lambda: np.array([]))\n",
    "\n",
    "    for gtrack in tqdm(gtracks):\n",
    "        is_same_track = (test_df.global_track_id == gtrack)\n",
    "        im_tracks = test_df[is_same_track]\n",
    "        query_row = im_tracks.iloc[0]\n",
    "        is_same_id = (query_row.track_tag_id == test_df.track_tag_id)\n",
    "        is_enough_timegap = np.abs(test_df.datetime2 - query_row.datetime2).astype('timedelta64[{}]'.format(timegap_unit)) > timegap\n",
    "\n",
    "        gallery_df = test_df[(is_enough_timegap & is_same_id & ~ is_same_track)]\n",
    "        if np.sum(gallery_df.track_tag_id == query_row.track_tag_id) == 0:\n",
    "            continue\n",
    "\n",
    "        tag_id = query_row.track_tag_id\n",
    "        gtrack_dist = np.array([])\n",
    "\n",
    "        gallery = to_np_array(gallery_df[\"emb\"].values)\n",
    "        for _, row in im_tracks.iterrows():\n",
    "            query_id = row.track_tag_id\n",
    "            query = np.expand_dims(row.emb, axis=0)\n",
    "            distances = 1 - tf.matmul(query, gallery.T).numpy()\n",
    "            distances = np.squeeze(distances)\n",
    "            gtrack_dist = np.append(gtrack_dist, distances)\n",
    "            count += 1\n",
    "        tag_id_dist[tag_id] = np.append(tag_id_dist[tag_id],  gtrack_dist)\n",
    "    print(f\"long-term comparisons: {count}\")\n",
    "    mean_per_tag_id = [np.mean(ds) for ds in tag_id_dist.values()]\n",
    "    return np.mean(mean_per_tag_id), mean_per_tag_id\n",
    "\n",
    "def get_longterm_diameter(test_df):\n",
    "    timegap=15\n",
    "    timegap_unit=\"m\"\n",
    "    gtracks = test_df.groupby(\"track_tag_id\").filter(lambda x: len(x[\"global_track_id\"].unique()) > 1)\n",
    "    gtracks = gtracks.global_track_id.unique()\n",
    "\n",
    "    distances = []\n",
    "    eval_tracks = len(gtracks)\n",
    "    print(\"Evaluating {} tracks.\".format(eval_tracks))\n",
    "\n",
    "    queries_num = 0\n",
    "    tag_id_dist = defaultdict(lambda: np.array([]))\n",
    "\n",
    "    for gtrack in tqdm(gtracks):\n",
    "        is_same_track = (test_df.global_track_id == gtrack)\n",
    "        im_tracks = test_df[is_same_track]\n",
    "        query_row = im_tracks.iloc[0]\n",
    "        is_same_id = (query_row.track_tag_id == test_df.track_tag_id)\n",
    "        is_enough_timegap = np.abs(test_df.datetime2 - query_row.datetime2).astype('timedelta64[{}]'.format(timegap_unit)) > timegap\n",
    "\n",
    "        gallery_df = test_df[(is_enough_timegap & is_same_id & ~ is_same_track)]\n",
    "        if np.sum(gallery_df.track_tag_id == query_row.track_tag_id) == 0:\n",
    "            continue\n",
    "\n",
    "        tag_id = query_row.track_tag_id\n",
    "        gtrack_dist = np.array([])\n",
    "\n",
    "        gallery = to_np_array(gallery_df[\"emb\"].values)\n",
    "        for _, row in im_tracks.iterrows():\n",
    "            query_id = row.track_tag_id\n",
    "            query = np.expand_dims(row.emb, axis=0)\n",
    "            distances = 1 - tf.matmul(query, gallery.T).numpy()\n",
    "            distances = np.squeeze(distances)\n",
    "            gtrack_dist = np.append(gtrack_dist, distances)\n",
    "        tag_id_dist[tag_id] = np.append(tag_id_dist[tag_id],  gtrack_dist)\n",
    "\n",
    "    mean_per_tag_id = [np.max(ds) for ds in tag_id_dist.values()]\n",
    "    return np.mean(mean_per_tag_id), mean_per_tag_id\n",
    "\n",
    "\n",
    "def get_notsame_mean_dist(test_df):\n",
    "    timegap=15\n",
    "    timegap_unit=\"m\"\n",
    "    gtracks = test_df.groupby(\"track_tag_id\").filter(lambda x: len(x[\"global_track_id\"].unique()) > 1)\n",
    "    gtracks = gtracks.global_track_id.unique()\n",
    "    count = 0\n",
    "    distances = []\n",
    "    eval_tracks = len(gtracks)\n",
    "    print(\"Evaluating {} tracks.\".format(eval_tracks))\n",
    "\n",
    "    queries_num = 0\n",
    "    tag_id_dist = defaultdict(lambda: np.array([]))\n",
    "\n",
    "    for gtrack in tqdm(gtracks):\n",
    "        is_same_track = (test_df.global_track_id == gtrack)\n",
    "        im_tracks = test_df[is_same_track]\n",
    "        query_row = im_tracks.iloc[0]\n",
    "        is_same_id = (query_row.track_tag_id == test_df.track_tag_id)\n",
    "        is_enough_timegap = np.abs(test_df.datetime2 - query_row.datetime2).astype('timedelta64[{}]'.format(timegap_unit)) > timegap\n",
    "\n",
    "        gallery_df = test_df[~ is_same_id]\n",
    "\n",
    "        tag_id = query_row.track_tag_id\n",
    "        gtrack_dist = np.array([])\n",
    "\n",
    "        gallery = to_np_array(gallery_df[\"emb\"].values)\n",
    "        for _, row in im_tracks.iterrows():\n",
    "            query_id = row.track_tag_id\n",
    "            query = np.expand_dims(row.emb, axis=0)\n",
    "            distances = 1 - tf.matmul(query, gallery.T).numpy()\n",
    "            distances = np.squeeze(distances)\n",
    "            gtrack_dist = np.append(gtrack_dist, distances)\n",
    "            count += 1\n",
    "        tag_id_dist[tag_id] = np.append(tag_id_dist[tag_id],  gtrack_dist)\n",
    "    print(f\"not-same comparisons: {count}\")\n",
    "    mean_per_tag_id = [np.mean(ds) for ds in tag_id_dist.values()]\n",
    "    return np.mean(mean_per_tag_id), mean_per_tag_id\n",
    "\n",
    "def eval_model_short_long_term(model_path):\n",
    "    model = load_model(model_path, custom_objects={'tf': tf})\n",
    "\n",
    "    test_df = pd.read_csv(TEST_CSV)\n",
    "    test_df[\"datetime2\"] = pd.to_datetime(test_df[\"datetime\"])\n",
    "\n",
    "    filenames = test_df[\"filename\"].values\n",
    "    images = filename2image(filenames)\n",
    "    predictions = model.predict(images.batch(batch_size), verbose=True)\n",
    "    test_df[\"emb\"]  = list(predictions)\n",
    "\n",
    "    shortterm_mean_dist, short_distribution = get_shortterm_mean_dist(test_df)\n",
    "    longterm_mean_dist, long_distribution = get_longterm_mean_dist(test_df)\n",
    "    notsame_mean_dist, notsame_distribution = get_notsame_mean_dist(test_df)\n",
    "    return shortterm_mean_dist, short_distribution, longterm_mean_dist, long_distribution, notsame_mean_dist, notsame_distribution\n",
    "\n",
    "\n",
    "def eval_model_short_long_diameter(model_path):\n",
    "    model = load_model(model_path, custom_objects={'tf': tf})\n",
    "\n",
    "    test_df = pd.read_csv(TEST_CSV)\n",
    "    test_df[\"datetime2\"] = pd.to_datetime(test_df[\"datetime\"])\n",
    "\n",
    "    filenames = test_df[\"filename\"].values\n",
    "    images = filename2image(filenames)\n",
    "    predictions = model.predict(images.batch(batch_size), verbose=True)\n",
    "    test_df[\"emb\"]  = list(predictions)\n",
    "\n",
    "    shortterm_diameter, short_distribution = get_shortterm_diameter(test_df)\n",
    "    longterm_diameter, long_distribution = get_longterm_diameter(test_df)\n",
    "\n",
    "    return shortterm_diameter, short_distribution, longterm_diameter, long_distribution"
   ]
  },
  {
   "cell_type": "code",
   "execution_count": 33,
   "id": "heated-memory",
   "metadata": {},
   "outputs": [],
   "source": [
    "plt.rc('xtick', labelsize=16) \n",
    "plt.rc('ytick', labelsize=16) "
   ]
  },
  {
   "cell_type": "code",
   "execution_count": 34,
   "id": "employed-conversation",
   "metadata": {},
   "outputs": [],
   "source": [
    "models = dict()\n",
    "ntracks = [181, 362, 724, 1448, 2896]\n",
    "for ntrack in ntracks:\n",
    "    models[ntrack] = \"/home/jchan/beeid/notebooks/cmc_experiments/models3/211006{:04}_untagged_augmentation_simplecnnv2_convb3_dim_128/model.tf\".format(ntrack)\n",
    "models[4949] = \"/home/jchan/beeid/notebooks/cmc_experiments/models2/2111231639_untagged_augmentataion_simplecnnv2_convb3_dim_128/model.tf\""
   ]
  },
  {
   "cell_type": "code",
   "execution_count": 35,
   "id": "alleged-mouth",
   "metadata": {},
   "outputs": [
    {
     "name": "stderr",
     "output_type": "stream",
     "text": [
      "/home/jchan/anaconda3/envs/bees/lib/python3.7/site-packages/tensorflow/python/keras/layers/core.py:1045: UserWarning: code.models is not loaded, but a Lambda layer uses it. It may cause errors.\n",
      "  , UserWarning)\n"
     ]
    },
    {
     "name": "stdout",
     "output_type": "stream",
     "text": [
      "103/103 [==============================] - 1s 14ms/step\n"
     ]
    },
    {
     "name": "stderr",
     "output_type": "stream",
     "text": [
      "  3%|▎         | 20/654 [00:00<00:03, 196.81it/s]"
     ]
    },
    {
     "name": "stdout",
     "output_type": "stream",
     "text": [
      "short-term comparisons: 413\n",
      "Evaluating 654 tracks.\n"
     ]
    },
    {
     "name": "stderr",
     "output_type": "stream",
     "text": [
      "100%|██████████| 654/654 [00:04<00:00, 157.42it/s]\n",
      "  3%|▎         | 17/654 [00:00<00:03, 160.30it/s]"
     ]
    },
    {
     "name": "stdout",
     "output_type": "stream",
     "text": [
      "long-term comparisons: 3173\n",
      "Evaluating 654 tracks.\n"
     ]
    },
    {
     "name": "stderr",
     "output_type": "stream",
     "text": [
      "100%|██████████| 654/654 [00:11<00:00, 58.84it/s]\n"
     ]
    },
    {
     "name": "stdout",
     "output_type": "stream",
     "text": [
      "not-same comparisons: 3191\n"
     ]
    },
    {
     "name": "stderr",
     "output_type": "stream",
     "text": [
      "/home/jchan/anaconda3/envs/bees/lib/python3.7/site-packages/tensorflow/python/keras/layers/core.py:1045: UserWarning: code.models is not loaded, but a Lambda layer uses it. It may cause errors.\n",
      "  , UserWarning)\n"
     ]
    },
    {
     "name": "stdout",
     "output_type": "stream",
     "text": [
      "103/103 [==============================] - 1s 11ms/step\n"
     ]
    },
    {
     "name": "stderr",
     "output_type": "stream",
     "text": [
      "  4%|▍         | 25/654 [00:00<00:02, 247.34it/s]"
     ]
    },
    {
     "name": "stdout",
     "output_type": "stream",
     "text": [
      "Evaluating 654 tracks.\n"
     ]
    },
    {
     "name": "stderr",
     "output_type": "stream",
     "text": [
      "100%|██████████| 654/654 [00:04<00:00, 159.04it/s]\n",
      "/home/jchan/anaconda3/envs/bees/lib/python3.7/site-packages/tensorflow/python/keras/layers/core.py:1045: UserWarning: code.models is not loaded, but a Lambda layer uses it. It may cause errors.\n",
      "  , UserWarning)\n"
     ]
    },
    {
     "name": "stdout",
     "output_type": "stream",
     "text": [
      "103/103 [==============================] - 1s 11ms/step\n"
     ]
    },
    {
     "name": "stderr",
     "output_type": "stream",
     "text": [
      "  3%|▎         | 18/654 [00:00<00:03, 179.19it/s]"
     ]
    },
    {
     "name": "stdout",
     "output_type": "stream",
     "text": [
      "short-term comparisons: 413\n",
      "Evaluating 654 tracks.\n"
     ]
    },
    {
     "name": "stderr",
     "output_type": "stream",
     "text": [
      "100%|██████████| 654/654 [00:04<00:00, 157.24it/s]\n",
      "  2%|▏         | 16/654 [00:00<00:04, 158.93it/s]"
     ]
    },
    {
     "name": "stdout",
     "output_type": "stream",
     "text": [
      "long-term comparisons: 3173\n",
      "Evaluating 654 tracks.\n"
     ]
    },
    {
     "name": "stderr",
     "output_type": "stream",
     "text": [
      "100%|██████████| 654/654 [00:13<00:00, 50.06it/s]\n"
     ]
    },
    {
     "name": "stdout",
     "output_type": "stream",
     "text": [
      "not-same comparisons: 3191\n"
     ]
    },
    {
     "name": "stderr",
     "output_type": "stream",
     "text": [
      "/home/jchan/anaconda3/envs/bees/lib/python3.7/site-packages/tensorflow/python/keras/layers/core.py:1045: UserWarning: code.models is not loaded, but a Lambda layer uses it. It may cause errors.\n",
      "  , UserWarning)\n"
     ]
    },
    {
     "name": "stdout",
     "output_type": "stream",
     "text": [
      "103/103 [==============================] - 1s 11ms/step\n"
     ]
    },
    {
     "name": "stderr",
     "output_type": "stream",
     "text": [
      "  2%|▏         | 14/654 [00:00<00:04, 133.83it/s]"
     ]
    },
    {
     "name": "stdout",
     "output_type": "stream",
     "text": [
      "Evaluating 654 tracks.\n"
     ]
    },
    {
     "name": "stderr",
     "output_type": "stream",
     "text": [
      "100%|██████████| 654/654 [00:04<00:00, 152.34it/s]\n",
      "/home/jchan/anaconda3/envs/bees/lib/python3.7/site-packages/tensorflow/python/keras/layers/core.py:1045: UserWarning: code.models is not loaded, but a Lambda layer uses it. It may cause errors.\n",
      "  , UserWarning)\n"
     ]
    },
    {
     "name": "stdout",
     "output_type": "stream",
     "text": [
      "103/103 [==============================] - 1s 11ms/step\n"
     ]
    },
    {
     "name": "stderr",
     "output_type": "stream",
     "text": [
      "  2%|▏         | 14/654 [00:00<00:04, 132.69it/s]"
     ]
    },
    {
     "name": "stdout",
     "output_type": "stream",
     "text": [
      "short-term comparisons: 413\n",
      "Evaluating 654 tracks.\n"
     ]
    },
    {
     "name": "stderr",
     "output_type": "stream",
     "text": [
      "100%|██████████| 654/654 [00:05<00:00, 126.17it/s]\n",
      "  3%|▎         | 17/654 [00:00<00:03, 159.45it/s]"
     ]
    },
    {
     "name": "stdout",
     "output_type": "stream",
     "text": [
      "long-term comparisons: 3173\n",
      "Evaluating 654 tracks.\n"
     ]
    },
    {
     "name": "stderr",
     "output_type": "stream",
     "text": [
      "100%|██████████| 654/654 [00:12<00:00, 54.02it/s] \n"
     ]
    },
    {
     "name": "stdout",
     "output_type": "stream",
     "text": [
      "not-same comparisons: 3191\n"
     ]
    },
    {
     "name": "stderr",
     "output_type": "stream",
     "text": [
      "/home/jchan/anaconda3/envs/bees/lib/python3.7/site-packages/tensorflow/python/keras/layers/core.py:1045: UserWarning: code.models is not loaded, but a Lambda layer uses it. It may cause errors.\n",
      "  , UserWarning)\n"
     ]
    },
    {
     "name": "stdout",
     "output_type": "stream",
     "text": [
      "103/103 [==============================] - 1s 11ms/step\n"
     ]
    },
    {
     "name": "stderr",
     "output_type": "stream",
     "text": [
      "  3%|▎         | 19/654 [00:00<00:03, 184.39it/s]"
     ]
    },
    {
     "name": "stdout",
     "output_type": "stream",
     "text": [
      "Evaluating 654 tracks.\n"
     ]
    },
    {
     "name": "stderr",
     "output_type": "stream",
     "text": [
      "100%|██████████| 654/654 [00:04<00:00, 134.60it/s]\n",
      "/home/jchan/anaconda3/envs/bees/lib/python3.7/site-packages/tensorflow/python/keras/layers/core.py:1045: UserWarning: code.models is not loaded, but a Lambda layer uses it. It may cause errors.\n",
      "  , UserWarning)\n"
     ]
    },
    {
     "name": "stdout",
     "output_type": "stream",
     "text": [
      "103/103 [==============================] - 1s 11ms/step\n"
     ]
    },
    {
     "name": "stderr",
     "output_type": "stream",
     "text": [
      "  4%|▍         | 26/654 [00:00<00:02, 258.92it/s]"
     ]
    },
    {
     "name": "stdout",
     "output_type": "stream",
     "text": [
      "short-term comparisons: 413\n",
      "Evaluating 654 tracks.\n"
     ]
    },
    {
     "name": "stderr",
     "output_type": "stream",
     "text": [
      "100%|██████████| 654/654 [00:03<00:00, 165.79it/s]\n",
      "  3%|▎         | 17/654 [00:00<00:03, 160.93it/s]"
     ]
    },
    {
     "name": "stdout",
     "output_type": "stream",
     "text": [
      "long-term comparisons: 3173\n",
      "Evaluating 654 tracks.\n"
     ]
    },
    {
     "name": "stderr",
     "output_type": "stream",
     "text": [
      "100%|██████████| 654/654 [00:08<00:00, 74.51it/s] \n"
     ]
    },
    {
     "name": "stdout",
     "output_type": "stream",
     "text": [
      "not-same comparisons: 3191\n"
     ]
    },
    {
     "name": "stderr",
     "output_type": "stream",
     "text": [
      "/home/jchan/anaconda3/envs/bees/lib/python3.7/site-packages/tensorflow/python/keras/layers/core.py:1045: UserWarning: code.models is not loaded, but a Lambda layer uses it. It may cause errors.\n",
      "  , UserWarning)\n"
     ]
    },
    {
     "name": "stdout",
     "output_type": "stream",
     "text": [
      "103/103 [==============================] - 1s 11ms/step\n"
     ]
    },
    {
     "name": "stderr",
     "output_type": "stream",
     "text": [
      "  4%|▍         | 27/654 [00:00<00:02, 261.06it/s]"
     ]
    },
    {
     "name": "stdout",
     "output_type": "stream",
     "text": [
      "Evaluating 654 tracks.\n"
     ]
    },
    {
     "name": "stderr",
     "output_type": "stream",
     "text": [
      "100%|██████████| 654/654 [00:04<00:00, 149.46it/s]\n",
      "/home/jchan/anaconda3/envs/bees/lib/python3.7/site-packages/tensorflow/python/keras/layers/core.py:1045: UserWarning: code.models is not loaded, but a Lambda layer uses it. It may cause errors.\n",
      "  , UserWarning)\n"
     ]
    },
    {
     "name": "stdout",
     "output_type": "stream",
     "text": [
      "103/103 [==============================] - 1s 11ms/step\n"
     ]
    },
    {
     "name": "stderr",
     "output_type": "stream",
     "text": [
      "  4%|▍         | 26/654 [00:00<00:02, 258.35it/s]"
     ]
    },
    {
     "name": "stdout",
     "output_type": "stream",
     "text": [
      "short-term comparisons: 413\n",
      "Evaluating 654 tracks.\n"
     ]
    },
    {
     "name": "stderr",
     "output_type": "stream",
     "text": [
      "100%|██████████| 654/654 [00:03<00:00, 166.09it/s]\n",
      "  3%|▎         | 17/654 [00:00<00:03, 163.92it/s]"
     ]
    },
    {
     "name": "stdout",
     "output_type": "stream",
     "text": [
      "long-term comparisons: 3173\n",
      "Evaluating 654 tracks.\n"
     ]
    },
    {
     "name": "stderr",
     "output_type": "stream",
     "text": [
      "100%|██████████| 654/654 [00:08<00:00, 73.91it/s] \n"
     ]
    },
    {
     "name": "stdout",
     "output_type": "stream",
     "text": [
      "not-same comparisons: 3191\n"
     ]
    },
    {
     "name": "stderr",
     "output_type": "stream",
     "text": [
      "/home/jchan/anaconda3/envs/bees/lib/python3.7/site-packages/tensorflow/python/keras/layers/core.py:1045: UserWarning: code.models is not loaded, but a Lambda layer uses it. It may cause errors.\n",
      "  , UserWarning)\n"
     ]
    },
    {
     "name": "stdout",
     "output_type": "stream",
     "text": [
      "103/103 [==============================] - 1s 11ms/step\n"
     ]
    },
    {
     "name": "stderr",
     "output_type": "stream",
     "text": [
      "  2%|▏         | 15/654 [00:00<00:04, 143.33it/s]"
     ]
    },
    {
     "name": "stdout",
     "output_type": "stream",
     "text": [
      "Evaluating 654 tracks.\n"
     ]
    },
    {
     "name": "stderr",
     "output_type": "stream",
     "text": [
      "100%|██████████| 654/654 [00:04<00:00, 160.74it/s]\n",
      "/home/jchan/anaconda3/envs/bees/lib/python3.7/site-packages/tensorflow/python/keras/layers/core.py:1045: UserWarning: beeid2.models is not loaded, but a Lambda layer uses it. It may cause errors.\n",
      "  , UserWarning)\n"
     ]
    },
    {
     "name": "stdout",
     "output_type": "stream",
     "text": [
      "103/103 [==============================] - 1s 11ms/step\n"
     ]
    },
    {
     "name": "stderr",
     "output_type": "stream",
     "text": [
      "  4%|▍         | 26/654 [00:00<00:02, 251.35it/s]"
     ]
    },
    {
     "name": "stdout",
     "output_type": "stream",
     "text": [
      "short-term comparisons: 413\n",
      "Evaluating 654 tracks.\n"
     ]
    },
    {
     "name": "stderr",
     "output_type": "stream",
     "text": [
      "100%|██████████| 654/654 [00:04<00:00, 152.54it/s]\n",
      "  2%|▏         | 16/654 [00:00<00:04, 158.76it/s]"
     ]
    },
    {
     "name": "stdout",
     "output_type": "stream",
     "text": [
      "long-term comparisons: 3173\n",
      "Evaluating 654 tracks.\n"
     ]
    },
    {
     "name": "stderr",
     "output_type": "stream",
     "text": [
      "100%|██████████| 654/654 [00:11<00:00, 55.87it/s] \n"
     ]
    },
    {
     "name": "stdout",
     "output_type": "stream",
     "text": [
      "not-same comparisons: 3191\n"
     ]
    },
    {
     "name": "stderr",
     "output_type": "stream",
     "text": [
      "/home/jchan/anaconda3/envs/bees/lib/python3.7/site-packages/tensorflow/python/keras/layers/core.py:1045: UserWarning: beeid2.models is not loaded, but a Lambda layer uses it. It may cause errors.\n",
      "  , UserWarning)\n"
     ]
    },
    {
     "name": "stdout",
     "output_type": "stream",
     "text": [
      "103/103 [==============================] - 1s 11ms/step\n"
     ]
    },
    {
     "name": "stderr",
     "output_type": "stream",
     "text": [
      "  4%|▍         | 26/654 [00:00<00:02, 257.23it/s]"
     ]
    },
    {
     "name": "stdout",
     "output_type": "stream",
     "text": [
      "Evaluating 654 tracks.\n"
     ]
    },
    {
     "name": "stderr",
     "output_type": "stream",
     "text": [
      "100%|██████████| 654/654 [00:04<00:00, 161.10it/s]\n"
     ]
    }
   ],
   "source": [
    "benchmark = defaultdict(dict)\n",
    "\n",
    "for ntrack, model_path in models.items():\n",
    "    shortterm_mean_dist, short_distribution, longterm_mean_dist, long_distribution, notsame_mean_dist, notsame_distribution = eval_model_short_long_term(model_path)\n",
    "    shortterm_diameter, short_diameter_distribution, longterm_diameter, long_diameter_distribution = eval_model_short_long_diameter(model_path)\n",
    "\n",
    "    benchmark[ntrack][\"shortterm_mean\"] = shortterm_mean_dist\n",
    "    benchmark[ntrack][\"shortterm_hist\"] = short_distribution\n",
    "    benchmark[ntrack][\"shortterm_diameter_mean\"] = shortterm_diameter\n",
    "    benchmark[ntrack][\"shortterm_diameter_hist\"] = short_diameter_distribution\n",
    "    \n",
    "    benchmark[ntrack][\"longterm_mean\"] = longterm_mean_dist\n",
    "    benchmark[ntrack][\"longterm_hist\"] = long_distribution\n",
    "    benchmark[ntrack][\"longterm_diameter_mean\"] = longterm_diameter\n",
    "    benchmark[ntrack][\"longterm_diameter_hist\"] = long_diameter_distribution\n",
    "    \n",
    "    benchmark[ntrack][\"notsame_mean\"] = notsame_mean_dist\n",
    "    benchmark[ntrack][\"notsame_hist\"] = notsame_distribution\n"
   ]
  },
  {
   "cell_type": "code",
   "execution_count": 38,
   "id": "weekly-robinson",
   "metadata": {},
   "outputs": [
    {
     "name": "stdout",
     "output_type": "stream",
     "text": [
      "181 0.21730149 0.4980843684251885\n",
      "362 0.36172116 0.7119656560149054\n",
      "724 0.38222286 0.7442238385975367\n",
      "1448 0.27568176 0.6020077908895555\n",
      "2896 0.24691716 0.5661057748808626\n"
     ]
    }
   ],
   "source": [
    "for ntrack in ntracks:\n",
    "    print(ntrack, benchmark[ntrack]['shortterm_mean'], benchmark[ntrack]['longterm_mean'])"
   ]
  },
  {
   "cell_type": "code",
   "execution_count": 39,
   "id": "relevant-bloom",
   "metadata": {},
   "outputs": [
    {
     "data": {
      "image/png": "[encoded data removed]",
      "text/plain": [
       "<Figure size 1440x720 with 6 Axes>"
      ]
     },
     "metadata": {
      "needs_background": "light"
     },
     "output_type": "display_data"
    }
   ],
   "source": [
    "fig, ax = plt.subplots(nrows=2, ncols=3, sharex=True, sharey=True, figsize=(20, 10))\n",
    "axes = ax.ravel()\n",
    "for i, ntrack in enumerate(benchmark.keys()):\n",
    "    axes[i].set_title(\"Training tracks: {}\".format(ntrack), fontsize=22)\n",
    "    axes[i].hist(benchmark[ntrack][\"shortterm_hist\"], label=\"shortterm\", color=\"tab:blue\", density=True, alpha=0.7)\n",
    "    axes[i].axvline(benchmark[ntrack][\"shortterm_mean\"], color=\"tab:blue\")\n",
    "    \n",
    "    axes[i].hist(benchmark[ntrack][\"longterm_hist\"], label=\"longterm\", color=\"tab:orange\", density=True, alpha=0.7)\n",
    "    axes[i].axvline(benchmark[ntrack][\"longterm_mean\"], color=\"tab:orange\")\n",
    "    \n",
    "    axes[i].hist(benchmark[ntrack][\"notsame_hist\"], label=\"negative\", color=\"tab:red\", density=True, alpha=0.7)\n",
    "    axes[i].axvline(benchmark[ntrack][\"notsame_mean\"], color=\"tab:red\")\n",
    "plt.legend(fontsize=18);\n",
    "plt.tight_layout()\n",
    "\n",
    "plt.savefig(\"distancedistribution_ntracks.png\", bbox_inches='tight')"
   ]
  },
  {
   "cell_type": "code",
   "execution_count": 41,
   "id": "baking-gothic",
   "metadata": {},
   "outputs": [
    {
     "data": {
      "image/png": "[encoded data removed]",
      "text/plain": [
       "<Figure size 1152x576 with 6 Axes>"
      ]
     },
     "metadata": {
      "needs_background": "light"
     },
     "output_type": "display_data"
    }
   ],
   "source": [
    "fig, ax = plt.subplots(nrows=2, ncols=3, sharex=True, sharey=True, figsize=(16, 8))\n",
    "axes = ax.ravel()\n",
    "for i, ntrack in enumerate(benchmark.keys()):\n",
    "    axes[i].set_title(\"ntracks: {}\".format(ntrack))\n",
    "    axes[i].hist(benchmark[ntrack][\"shortterm_diameter_hist\"], label=\"shortterm\", color=\"tab:blue\", density=True, alpha=0.7)\n",
    "    axes[i].axvline(benchmark[ntrack][\"shortterm_diameter_mean\"], color=\"tab:blue\", label=\"shortterm\")\n",
    "    \n",
    "    axes[i].hist(benchmark[ntrack][\"longterm_diameter_hist\"], label=\"longterm\", color=\"tab:orange\", density=True, alpha=0.7)\n",
    "    axes[i].axvline(benchmark[ntrack][\"longterm_diameter_mean\"], color=\"tab:orange\", label=\"longterm\")\n",
    "    \n",
    "    axes[i].hist(benchmark[ntrack][\"notsame_hist\"], label=\"notsame\", color=\"tab:red\", density=True, alpha=0.7)\n",
    "    axes[i].axvline(benchmark[ntrack][\"notsame_mean\"], color=\"tab:red\", label=\"notsame\")\n",
    "plt.tight_layout()\n",
    "plt.legend();\n",
    "plt.savefig(\"diameterdistribution_ntracks.png\", bbox_inches='tight')\n"
   ]
  },
  {
   "cell_type": "code",
   "execution_count": null,
   "id": "dated-albany",
   "metadata": {},
   "outputs": [
    {
     "name": "stderr",
     "output_type": "stream",
     "text": [
      "/home/jchan/anaconda3/envs/bees/lib/python3.7/site-packages/tensorflow/python/keras/layers/core.py:1045: UserWarning: beeid2.models is not loaded, but a Lambda layer uses it. It may cause errors.\n",
      "  , UserWarning)\n"
     ]
    },
    {
     "name": "stdout",
     "output_type": "stream",
     "text": [
      "103/103 [==============================] - 1s 14ms/step\n"
     ]
    },
    {
     "name": "stderr",
     "output_type": "stream",
     "text": [
      "  4%|▍         | 27/654 [00:00<00:02, 268.76it/s]"
     ]
    },
    {
     "name": "stdout",
     "output_type": "stream",
     "text": [
      "short-term comparisons: 413\n",
      "Evaluating 654 tracks.\n"
     ]
    },
    {
     "name": "stderr",
     "output_type": "stream",
     "text": [
      "100%|██████████| 654/654 [00:03<00:00, 169.18it/s]\n",
      "  3%|▎         | 17/654 [00:00<00:03, 162.29it/s]"
     ]
    },
    {
     "name": "stdout",
     "output_type": "stream",
     "text": [
      "long-term comparisons: 3173\n",
      "Evaluating 654 tracks.\n"
     ]
    },
    {
     "name": "stderr",
     "output_type": "stream",
     "text": [
      "100%|██████████| 654/654 [00:09<00:00, 71.78it/s] \n"
     ]
    },
    {
     "name": "stdout",
     "output_type": "stream",
     "text": [
      "not-same comparisons: 3191\n"
     ]
    },
    {
     "name": "stderr",
     "output_type": "stream",
     "text": [
      "/home/jchan/anaconda3/envs/bees/lib/python3.7/site-packages/tensorflow/python/keras/layers/core.py:1045: UserWarning: beeid2.models is not loaded, but a Lambda layer uses it. It may cause errors.\n",
      "  , UserWarning)\n"
     ]
    },
    {
     "name": "stdout",
     "output_type": "stream",
     "text": [
      "103/103 [==============================] - 1s 11ms/step\n"
     ]
    },
    {
     "name": "stderr",
     "output_type": "stream",
     "text": [
      "  4%|▍         | 28/654 [00:00<00:02, 275.46it/s]"
     ]
    },
    {
     "name": "stdout",
     "output_type": "stream",
     "text": [
      "Evaluating 654 tracks.\n"
     ]
    },
    {
     "name": "stderr",
     "output_type": "stream",
     "text": [
      "100%|██████████| 654/654 [00:04<00:00, 151.94it/s]\n",
      "/home/jchan/anaconda3/envs/bees/lib/python3.7/site-packages/tensorflow/python/keras/layers/core.py:1045: UserWarning: beeid2.models is not loaded, but a Lambda layer uses it. It may cause errors.\n",
      "  , UserWarning)\n"
     ]
    },
    {
     "name": "stdout",
     "output_type": "stream",
     "text": [
      "103/103 [==============================] - 1s 11ms/step\n"
     ]
    },
    {
     "name": "stderr",
     "output_type": "stream",
     "text": [
      "  4%|▍         | 27/654 [00:00<00:02, 262.58it/s]"
     ]
    },
    {
     "name": "stdout",
     "output_type": "stream",
     "text": [
      "short-term comparisons: 413\n",
      "Evaluating 654 tracks.\n"
     ]
    },
    {
     "name": "stderr",
     "output_type": "stream",
     "text": [
      "100%|██████████| 654/654 [00:04<00:00, 156.76it/s]\n",
      "  2%|▏         | 16/654 [00:00<00:04, 157.92it/s]"
     ]
    },
    {
     "name": "stdout",
     "output_type": "stream",
     "text": [
      "long-term comparisons: 3173\n",
      "Evaluating 654 tracks.\n"
     ]
    },
    {
     "name": "stderr",
     "output_type": "stream",
     "text": [
      "100%|██████████| 654/654 [00:09<00:00, 72.33it/s] \n"
     ]
    },
    {
     "name": "stdout",
     "output_type": "stream",
     "text": [
      "not-same comparisons: 3191\n"
     ]
    },
    {
     "name": "stderr",
     "output_type": "stream",
     "text": [
      "/home/jchan/anaconda3/envs/bees/lib/python3.7/site-packages/tensorflow/python/keras/layers/core.py:1045: UserWarning: beeid2.models is not loaded, but a Lambda layer uses it. It may cause errors.\n",
      "  , UserWarning)\n"
     ]
    }
   ],
   "source": [
    "models = {\n",
    "    \"tagged\": \"/home/jchan/beeid/notebooks/cmc_experiments/models2/2111240358_tagged_simplecnnv2_convb3_dim_128/model.tf\",\n",
    "    \"untagged\": \"/home/jchan/beeid/notebooks/cmc_experiments/models2/2111232311_untagged_simplecnnv2_convb3_dim_128/model.tf\",\n",
    "    \"tagged_untagged\": \"/home/jchan/beeid/notebooks/cmc_experiments/models2/2111241016_tagged_untagged_simplecnnv2_convb3_dim_128/model.tf\",\n",
    "    \"tagged_augmentataion\": \"/home/jchan/beeid/notebooks/cmc_experiments/models2/2111232233_tagged_augmentataion_simplecnnv2_convb3_dim_128/model.tf\",\n",
    "    \"untagged_augmentation\": \"/home/jchan/beeid/notebooks/cmc_experiments/models2/2111231639_untagged_augmentataion_simplecnnv2_convb3_dim_128/model.tf\",\n",
    "    \"tagged_augmentataion_untagged_augmentataion\":\"/home/jchan/beeid/notebooks/cmc_experiments/models2/2111240952_tagged_augmentataion_untagged_augmentataion_simplecnnv2_convb3_dim_128/model.tf\",\n",
    "}\n",
    "\n",
    "benchmark2 = defaultdict(dict)\n",
    "\n",
    "for model_name, model_path in models.items():\n",
    "    shortterm_mean_dist, short_distribution, longterm_mean_dist, long_distribution, notsame_mean_dist, notsame_distribution = eval_model_short_long_term(model_path)\n",
    "    shortterm_diameter, short_diameter_distribution, longterm_diameter, long_diameter_distribution = eval_model_short_long_diameter(model_path)\n",
    "\n",
    "    benchmark2[model_name][\"shortterm_mean\"] = shortterm_mean_dist\n",
    "    benchmark2[model_name][\"shortterm_hist\"] = short_distribution\n",
    "    benchmark2[model_name][\"shortterm_diameter_mean\"] = shortterm_diameter\n",
    "    benchmark2[model_name][\"shortterm_diameter_hist\"] = short_diameter_distribution\n",
    "    \n",
    "    benchmark2[model_name][\"longterm_mean\"] = longterm_mean_dist\n",
    "    benchmark2[model_name][\"longterm_hist\"] = long_distribution\n",
    "    benchmark2[model_name][\"longterm_diameter_mean\"] = longterm_diameter\n",
    "    benchmark2[model_name][\"longterm_diameter_hist\"] = long_diameter_distribution\n",
    "    \n",
    "    benchmark2[model_name][\"notsame_mean\"] = notsame_mean_dist\n",
    "    benchmark2[model_name][\"notsame_hist\"] = notsame_distribution\n",
    "    "
   ]
  },
  {
   "cell_type": "code",
   "execution_count": 27,
   "id": "integrated-jacob",
   "metadata": {},
   "outputs": [],
   "source": [
    "model_name_dict = {\n",
    "    \"tagged\": \"long-term\",\n",
    "    \"untagged\": \"short-term\",\n",
    "    \"tagged_untagged\": \"short-term + long-term\",\n",
    "    \"tagged_augmentataion\": \"long-term + augmentation\",\n",
    "    \"untagged_augmentation\": \"short-term + augmentation\",\n",
    "    \"tagged_augmentataion_untagged_augmentataion\": \"short-term + long-term + augmentation\",\n",
    "}"
   ]
  },
  {
   "cell_type": "code",
   "execution_count": 26,
   "id": "logical-parker",
   "metadata": {},
   "outputs": [
    {
     "data": {
      "text/plain": [
       "{'tagged': '/home/jchan/beeid/notebooks/cmc_experiments/models2/2111240358_tagged_simplecnnv2_convb3_dim_128/model.tf',\n",
       " 'untagged': '/home/jchan/beeid/notebooks/cmc_experiments/models2/2111232311_untagged_simplecnnv2_convb3_dim_128/model.tf',\n",
       " 'tagged_untagged': '/home/jchan/beeid/notebooks/cmc_experiments/models2/2111241016_tagged_untagged_simplecnnv2_convb3_dim_128/model.tf',\n",
       " 'tagged_augmentataion': '/home/jchan/beeid/notebooks/cmc_experiments/models2/2111232233_tagged_augmentataion_simplecnnv2_convb3_dim_128/model.tf',\n",
       " 'untagged_augmentation': '/home/jchan/beeid/notebooks/cmc_experiments/models2/2111231639_untagged_augmentataion_simplecnnv2_convb3_dim_128/model.tf',\n",
       " 'tagged_augmentataion_untagged_augmentataion': '/home/jchan/beeid/notebooks/cmc_experiments/models2/2111240952_tagged_augmentataion_untagged_augmentataion_simplecnnv2_convb3_dim_128/model.tf'}"
      ]
     },
     "execution_count": 26,
     "metadata": {},
     "output_type": "execute_result"
    }
   ],
   "source": [
    "models"
   ]
  },
  {
   "cell_type": "code",
   "execution_count": 31,
   "id": "offshore-american",
   "metadata": {},
   "outputs": [
    {
     "data": {
      "image/png": "[encoded data removed]",
      "text/plain": [
       "<Figure size 1440x720 with 6 Axes>"
      ]
     },
     "metadata": {
      "needs_background": "light"
     },
     "output_type": "display_data"
    }
   ],
   "source": [
    "fig, ax = plt.subplots(nrows=2, ncols=3, sharex=True, sharey=True, figsize=(20, 10))\n",
    "axes = ax.ravel()\n",
    "for i, model_name in enumerate(models.keys()):\n",
    "    axes[i].set_title(\"{}\".format(model_name_dict[model_name]), fontsize=22)\n",
    "    axes[i].hist(benchmark2[model_name][\"shortterm_hist\"], label=\"shortterm\", color=\"tab:blue\", density=True, alpha=0.7)\n",
    "    axes[i].axvline(benchmark2[model_name][\"shortterm_mean\"], color=\"tab:blue\")\n",
    "    \n",
    "    axes[i].hist(benchmark2[model_name][\"longterm_hist\"], label=\"longterm\", color=\"tab:orange\", density=True, alpha=0.7)\n",
    "    axes[i].axvline(benchmark2[model_name][\"longterm_mean\"], color=\"tab:orange\")\n",
    "    \n",
    "    axes[i].hist(benchmark2[model_name][\"notsame_hist\"], label=\"negative\", color=\"tab:red\", density=True, alpha=0.7)\n",
    "    axes[i].axvline(benchmark2[model_name][\"notsame_mean\"], color=\"tab:red\")\n",
    "plt.tight_layout()\n",
    "plt.legend(fontsize=18);\n",
    "plt.savefig(\"distancedistribution.png\", bbox_inches=\"tight\")"
   ]
  },
  {
   "cell_type": "code",
   "execution_count": 44,
   "id": "comfortable-induction",
   "metadata": {},
   "outputs": [
    {
     "data": {
      "image/png": "[encoded data removed]",
      "text/plain": [
       "<Figure size 1152x576 with 6 Axes>"
      ]
     },
     "metadata": {
      "needs_background": "light"
     },
     "output_type": "display_data"
    }
   ],
   "source": [
    "fig, ax = plt.subplots(nrows=2, ncols=3, sharex=True, sharey=True, figsize=(16, 8))\n",
    "axes = ax.ravel()\n",
    "for i, model_name in enumerate(models.keys()):\n",
    "    axes[i].set_title(\"{}\".format(model_name))\n",
    "    axes[i].hist(benchmark2[model_name][\"shortterm_diameter_hist\"], label=\"shortterm\", color=\"tab:blue\", density=True, alpha=0.7)\n",
    "    axes[i].axvline(benchmark2[model_name][\"shortterm_diameter_mean\"], color=\"tab:blue\", label=\"shortterm\")\n",
    "    \n",
    "    axes[i].hist(benchmark2[model_name][\"longterm_diameter_hist\"], label=\"longterm\", color=\"tab:orange\", density=True, alpha=0.7)\n",
    "    axes[i].axvline(benchmark2[model_name][\"longterm_diameter_mean\"], color=\"tab:orange\", label=\"longterm\")\n",
    "    \n",
    "    axes[i].hist(benchmark2[model_name][\"notsame_hist\"], label=\"notsame\", color=\"tab:red\", density=True, alpha=0.7)\n",
    "    axes[i].axvline(benchmark2[model_name][\"notsame_mean\"], color=\"tab:red\", label=\"notsame\")\n",
    "plt.tight_layout()\n",
    "plt.legend();\n",
    "plt.savefig(\"diameterdistribution.png\")"
   ]
  }
 ],
 "metadata": {
  "kernelspec": {
   "display_name": "bees",
   "language": "python",
   "name": "bees"
  },
  "language_info": {
   "codemirror_mode": {
    "name": "ipython",
    "version": 3
   },
   "file_extension": ".py",
   "mimetype": "text/x-python",
   "name": "python",
   "nbconvert_exporter": "python",
   "pygments_lexer": "ipython3",
   "version": "3.7.3"
  }
 },
 "nbformat": 4,
 "nbformat_minor": 5
}
