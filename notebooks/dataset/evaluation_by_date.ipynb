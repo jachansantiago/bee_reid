{
 "cells": [
  {
   "cell_type": "markdown",
   "id": "consistent-livestock",
   "metadata": {},
   "source": [
    "# Evaluation by Date"
   ]
  },
  {
   "cell_type": "code",
   "execution_count": 1,
   "id": "wicked-membrane",
   "metadata": {},
   "outputs": [],
   "source": [
    "import os\n",
    "os.environ[\"CUDA_DEVICE_ORDER\"]=\"PCI_BUS_ID\"   # see issue #152\n",
    "os.environ[\"CUDA_VISIBLE_DEVICES\"]=\"1\"\n",
    "\n",
    "import numpy as np\n",
    "import pandas as pd\n",
    "from tqdm import tqdm\n",
    "import tensorflow as tf\n",
    "\n",
    "import matplotlib.pyplot as plt\n",
    "from ipywidgets import interact\n",
    "\n",
    "import tensorflow_addons as tfa\n",
    "from tensorflow.keras.models import load_model\n",
    "# from tensorflow_addons.losses import TripletSemiHardLoss, TripletHardLoss\n",
    "\n",
    "from beeid.utils import sensitivity_map\n",
    "\n",
    "from beeid2.models import simple_cnnv2, ContrastiveLearning\n",
    "from beeid2.data_utils import load_tf_pair_dataset, load_tf_dataset\n",
    "from beeid2.viz import show_sensitivity_maps\n",
    "from beeid2.evaluation import cmc_evaluation, plot_cmc\n",
    "from beeid2.evaluation import get_interactive_plot_query_gallery\n",
    "from beeid2.data_utils import filename2image\n",
    "\n",
    "IMAGE_FOLDER = \"/mnt/storage/work/jchan/normalized_uncensored_dataset/images/\"\n",
    "DATASET_CSV = \"/mnt/storage/work/jchan/body_dataset2/dataset3.csv\""
   ]
  },
  {
   "cell_type": "markdown",
   "id": "coupled-characterization",
   "metadata": {},
   "source": [
    "### Prepare dataset\n",
    "\n",
    "Select the dates for Training, Validation and Testing datasets."
   ]
  },
  {
   "cell_type": "code",
   "execution_count": 2,
   "id": "victorian-criterion",
   "metadata": {},
   "outputs": [
    {
     "data": {
      "text/plain": [
       "(3777, 1909, 3276)"
      ]
     },
     "execution_count": 2,
     "metadata": {},
     "output_type": "execute_result"
    }
   ],
   "source": [
    "def filter_dataframe(df):\n",
    "    filtered_df = df[(df.closest_bee > 300)]\n",
    "    filtered_df = filtered_df[filtered_df.abdomen_size >= 230]\n",
    "    filtered_df = filtered_df[filtered_df.abdomen_angle >= 200]\n",
    "    filtered_df = filtered_df[filtered_df.abdomen_angle <= 330]\n",
    "    filtered_df = filtered_df[filtered_df.V_mean >= 0.30]\n",
    "    return filtered_df.copy()\n",
    "\n",
    "df = pd.read_csv(DATASET_CSV)\n",
    "\n",
    "df = filter_dataframe(df)\n",
    "df= df[df.tag_id != -1.0]\n",
    "df[\"datetime2\"] = pd.to_datetime(df[\"datetime\"])\n",
    "df[\"days\"] = df[\"datetime2\"].dt.strftime(\"%Y-%m-%d\")\n",
    "df[\"global_track_id\"] = df[\"video_name\"] + \"_\" + df[\"track_id\"].apply(str)\n",
    "df[\"filename\"] = IMAGE_FOLDER + df.filename\n",
    "df[\"day_int\"] = df[\"datetime2\"].dt.strftime(\"%d\").astype(int)\n",
    "\n",
    "train_df = df[df.days <= '2019-07-23']\n",
    "valid_df = df[(df.days > '2019-07-23') & (df.days < '2019-07-25')]\n",
    "test_df = df[(df.days >= '2019-08-01') & (df.days <= '2019-08-04')]\n",
    "test_df = test_df.sort_values(\"datetime2\")\n",
    "len(train_df), len(valid_df), len(test_df)"
   ]
  },
  {
   "cell_type": "code",
   "execution_count": 3,
   "id": "friendly-virgin",
   "metadata": {},
   "outputs": [],
   "source": [
    "# test_df = pd.read_csv(\"data/test.csv\")\n",
    "# test_df[\"datetime2\"] = pd.to_datetime(test_df[\"datetime\"])"
   ]
  },
  {
   "cell_type": "markdown",
   "id": "headed-rebate",
   "metadata": {},
   "source": [
    "# Creating a tracking evaluation"
   ]
  },
  {
   "cell_type": "code",
   "execution_count": 4,
   "id": "round-muscle",
   "metadata": {},
   "outputs": [
    {
     "data": {
      "text/plain": [
       "Index(['Unnamed: 0', 'Unnamed: 0.1', 'track_id', 'frame', 'angle', 'x', 'y',\n",
       "       'parts_num', 'tag_id', 'virtual', 'pollen_score', 'tagx', 'tagy',\n",
       "       'taghamming', 'tagdm', 'datetime', 'track_tag_id', 'headx', 'heady',\n",
       "       'waistx', 'waisty', 'neckx', 'necky', 'tailx', 'taily', 'closest_bee',\n",
       "       'num_bees_frame', 'filename', 'video_name', 'abdomen_size',\n",
       "       'normalized_abdomen_size', 'R_mean', 'G_mean', 'B_mean',\n",
       "       'abdomen_angle', 'H_mean', 'S_mean', 'V_mean', 'datetime2', 'days',\n",
       "       'global_track_id', 'day_int'],\n",
       "      dtype='object')"
      ]
     },
     "execution_count": 4,
     "metadata": {},
     "output_type": "execute_result"
    }
   ],
   "source": [
    "test_df.columns"
   ]
  },
  {
   "cell_type": "code",
   "execution_count": 5,
   "id": "mounted-panama",
   "metadata": {},
   "outputs": [
    {
     "data": {
      "text/html": [
       "<div>\n",
       "<style scoped>\n",
       "    .dataframe tbody tr th:only-of-type {\n",
       "        vertical-align: middle;\n",
       "    }\n",
       "\n",
       "    .dataframe tbody tr th {\n",
       "        vertical-align: top;\n",
       "    }\n",
       "\n",
       "    .dataframe thead th {\n",
       "        text-align: right;\n",
       "    }\n",
       "</style>\n",
       "<table border=\"1\" class=\"dataframe\">\n",
       "  <thead>\n",
       "    <tr style=\"text-align: right;\">\n",
       "      <th></th>\n",
       "      <th>Unnamed: 0</th>\n",
       "      <th>Unnamed: 0.1</th>\n",
       "      <th>track_id</th>\n",
       "      <th>frame</th>\n",
       "      <th>angle</th>\n",
       "      <th>x</th>\n",
       "      <th>y</th>\n",
       "      <th>parts_num</th>\n",
       "      <th>tag_id</th>\n",
       "      <th>virtual</th>\n",
       "      <th>...</th>\n",
       "      <th>G_mean</th>\n",
       "      <th>B_mean</th>\n",
       "      <th>abdomen_angle</th>\n",
       "      <th>H_mean</th>\n",
       "      <th>S_mean</th>\n",
       "      <th>V_mean</th>\n",
       "      <th>datetime2</th>\n",
       "      <th>days</th>\n",
       "      <th>global_track_id</th>\n",
       "      <th>day_int</th>\n",
       "    </tr>\n",
       "  </thead>\n",
       "  <tbody>\n",
       "    <tr>\n",
       "      <th>21662</th>\n",
       "      <td>21662</td>\n",
       "      <td>199374</td>\n",
       "      <td>15118</td>\n",
       "      <td>37498</td>\n",
       "      <td>148.29857</td>\n",
       "      <td>608</td>\n",
       "      <td>1024</td>\n",
       "      <td>4</td>\n",
       "      <td>2715.0</td>\n",
       "      <td>False</td>\n",
       "      <td>...</td>\n",
       "      <td>112</td>\n",
       "      <td>114</td>\n",
       "      <td>241.699244</td>\n",
       "      <td>0.327862</td>\n",
       "      <td>0.222446</td>\n",
       "      <td>0.483336</td>\n",
       "      <td>2019-08-04 18:31:14.900</td>\n",
       "      <td>2019-08-04</td>\n",
       "      <td>38_02_R_190804180000_15118</td>\n",
       "      <td>4</td>\n",
       "    </tr>\n",
       "  </tbody>\n",
       "</table>\n",
       "<p>1 rows × 42 columns</p>\n",
       "</div>"
      ],
      "text/plain": [
       "       Unnamed: 0  Unnamed: 0.1  track_id  frame      angle    x     y  \\\n",
       "21662       21662        199374     15118  37498  148.29857  608  1024   \n",
       "\n",
       "       parts_num  tag_id  virtual  ...  G_mean  B_mean  abdomen_angle  \\\n",
       "21662          4  2715.0    False  ...     112     114     241.699244   \n",
       "\n",
       "         H_mean    S_mean    V_mean               datetime2        days  \\\n",
       "21662  0.327862  0.222446  0.483336 2019-08-04 18:31:14.900  2019-08-04   \n",
       "\n",
       "                  global_track_id  day_int  \n",
       "21662  38_02_R_190804180000_15118        4  \n",
       "\n",
       "[1 rows x 42 columns]"
      ]
     },
     "execution_count": 5,
     "metadata": {},
     "output_type": "execute_result"
    }
   ],
   "source": [
    "test_df[test_df.global_track_id == \"38_02_R_190804180000_15118\"]"
   ]
  },
  {
   "cell_type": "code",
   "execution_count": 6,
   "id": "passive-equilibrium",
   "metadata": {},
   "outputs": [],
   "source": [
    "# for global_track_id in test_df.global_track_id.unique():\n",
    "#     d= test_df[test_df.global_track_id == global_track_id]\n",
    "#     print(len(d))"
   ]
  },
  {
   "cell_type": "markdown",
   "id": "eleven-mitchell",
   "metadata": {},
   "source": [
    "# Creating a re-id evalutaion"
   ]
  },
  {
   "cell_type": "code",
   "execution_count": 7,
   "id": "rapid-passport",
   "metadata": {},
   "outputs": [],
   "source": [
    "periods = list()\n",
    "for tid in test_df.track_tag_id.unique():\n",
    "    sample_track_df = test_df[test_df.track_tag_id == tid]\n",
    "    gtracks = sample_track_df.groupby(\"global_track_id\").apply(lambda x: x.iloc[0]).sort_values(\"datetime2\")\n",
    "    dates = gtracks.datetime2.values\n",
    "    gtids = gtracks.global_track_id.values\n",
    "    days_int =  gtracks.day_int.values\n",
    "    for i, (gid1, d1, day1) in enumerate(zip(gtids, dates, days_int)):\n",
    "        for gid2, d2, day2 in zip(gtids[i+1:], dates[i+1:], days_int[i+1:]):\n",
    "            diff = d2 - d1\n",
    "            day_diff = day2 - day1\n",
    "            periods.append((tid, gid1, gid2, diff.astype('timedelta64[m]'), day_diff))"
   ]
  },
  {
   "cell_type": "code",
   "execution_count": 8,
   "id": "first-massage",
   "metadata": {},
   "outputs": [],
   "source": [
    "timegap = pd.DataFrame(periods, columns=[\"track_tag_id\", \"gid1\", \"gid2\",  \"timegap\", \"dategap\"])"
   ]
  },
  {
   "cell_type": "code",
   "execution_count": 9,
   "id": "intense-salad",
   "metadata": {},
   "outputs": [
    {
     "data": {
      "image/png": "[encoded data removed]",
      "text/plain": [
       "<Figure size 1440x504 with 1 Axes>"
      ]
     },
     "metadata": {
      "needs_background": "light"
     },
     "output_type": "display_data"
    }
   ],
   "source": [
    "plt.figure(figsize=(20, 7))\n",
    "minutes = timegap.timegap.astype('timedelta64[m]')\n",
    "hours = timegap[minutes > 15].timegap.astype('timedelta64[h]')\n",
    "# hours = minutes/60.0\n",
    "xticks = range(0, 24*4, 6)\n",
    "hours.hist(bins=100)\n",
    "plt.axvline(x=1, c=\"red\")\n",
    "plt.xticks(xticks);\n",
    "plt.xlabel(\"Distribution of time difference in hours of pairs of tagged tracks\", fontsize=22)\n",
    "plt.ylabel(\"Frequency\", fontsize=22)\n",
    "plt.savefig(\"long_term_timegap_distribution.png\")"
   ]
  },
  {
   "cell_type": "code",
   "execution_count": 24,
   "id": "unavailable-jenny",
   "metadata": {},
   "outputs": [
    {
     "data": {
      "image/png": "[encoded data removed]",
      "text/plain": [
       "<Figure size 1440x504 with 1 Axes>"
      ]
     },
     "metadata": {
      "needs_background": "light"
     },
     "output_type": "display_data"
    }
   ],
   "source": [
    "plt.figure(figsize=(20, 7))\n",
    "minutes = timegap.timegap.astype('timedelta64[h]')\n",
    "# hours = minutes/60.0\n",
    "xticks = range(1, 24*4)\n",
    "hours.hist(bins=100)\n",
    "plt.xticks(xticks);"
   ]
  },
  {
   "cell_type": "code",
   "execution_count": 7,
   "id": "voluntary-donor",
   "metadata": {},
   "outputs": [],
   "source": [
    "def get_timegap_query_gallery(row, query_df, dfGroupedbyTagId, limit=None):\n",
    "    query = query_df[query_df.global_track_id == row.gid1].sample().iloc[0]\n",
    "    key = query_df[query_df.global_track_id == row.gid2].sample().iloc[0]\n",
    "    \n",
    "    negatives = dfGroupedbyTagId.apply(lambda x: x.iloc[np.random.randint(len(x))])\n",
    "    different_tag = (negatives.index != row.track_tag_id)\n",
    "    negatives = negatives[different_tag]\n",
    "    \n",
    "    if limit is not None:\n",
    "        negatives = negatives.sample(limit)\n",
    "    query_gallery = np.concatenate(([query.filename, key.filename], negatives.filename.values))\n",
    "    return query_gallery"
   ]
  },
  {
   "cell_type": "code",
   "execution_count": 8,
   "id": "valuable-photographer",
   "metadata": {},
   "outputs": [],
   "source": [
    "def timegap_dataset(df, timegap_df, iterations=100, gallery_size=None):\n",
    "    \"\"\"\n",
    "    model: keras model\n",
    "    df: a dataframe with the image to evaluate\n",
    "    \n",
    "    \"\"\"\n",
    "    cdf = df.copy()\n",
    "    dfGroupedbyTagId = cdf.groupby(\"track_tag_id\")\n",
    "    \n",
    "    iteration_ids = list()\n",
    "    query_ids = list()\n",
    "    image_ids = list()\n",
    "    galleries = list()\n",
    "    for it in tqdm(range(iterations)):\n",
    "        queries_and_galleries = list()\n",
    "        for j, (i, query_data) in enumerate(timegap_df.iterrows()):\n",
    "            query_gallery =  get_timegap_query_gallery(query_data, cdf, dfGroupedbyTagId, limit=gallery_size)\n",
    "            queries_and_galleries.append(query_gallery)\n",
    "            \n",
    "            iteration_ids.append(np.ones(len(query_gallery)) * it)\n",
    "            query_ids.append(np.ones(len(query_gallery)) * j)\n",
    "            image_ids.append(np.arange(0, len(query_gallery)))\n",
    "            galleries.append(query_gallery)\n",
    "    \n",
    "    iteration_ids = np.array(iteration_ids).ravel().astype(int)\n",
    "    query_ids = np.array(query_ids).ravel().astype(int)\n",
    "    image_ids = np.array(image_ids).ravel()\n",
    "    galleries = np.array(galleries).ravel()\n",
    "    \n",
    "    df = pd.DataFrame({\"iteration_id\":iteration_ids, \"gallery_id\":query_ids, \"image_id\": image_ids,  \"filename\":galleries})\n",
    "    return df\n",
    "        \n",
    "        "
   ]
  },
  {
   "cell_type": "code",
   "execution_count": 11,
   "id": "missing-passenger",
   "metadata": {},
   "outputs": [
    {
     "name": "stderr",
     "output_type": "stream",
     "text": [
      "100%|██████████| 100/100 [51:32<00:00, 30.92s/it]\n"
     ]
    },
    {
     "data": {
      "image/png": "[encoded data removed]",
      "text/plain": [
       "<Figure size 432x288 with 1 Axes>"
      ]
     },
     "metadata": {
      "needs_background": "light"
     },
     "output_type": "display_data"
    }
   ],
   "source": [
    "greater_than_15min= timegap.timegap.astype('timedelta64[m]') > 15\n",
    "same_hour = timegap.timegap.astype('timedelta64[h]') < 1\n",
    "\n",
    "d = timegap[greater_than_15min & same_hour]\n",
    "d.timegap.astype('timedelta64[m]').hist(bins=100)\n",
    "\n",
    "df = timegap_dataset(test_df, d, iterations=100)\n",
    "df.to_csv(\"data/test_same_hour2.csv\")"
   ]
  },
  {
   "cell_type": "code",
   "execution_count": 12,
   "id": "tamil-excerpt",
   "metadata": {},
   "outputs": [
    {
     "name": "stderr",
     "output_type": "stream",
     "text": [
      "100%|██████████| 100/100 [33:24<00:00, 20.04s/it]\n"
     ]
    },
    {
     "data": {
      "image/png": "[encoded data removed]",
      "text/plain": [
       "<Figure size 432x288 with 1 Axes>"
      ]
     },
     "metadata": {
      "needs_background": "light"
     },
     "output_type": "display_data"
    }
   ],
   "source": [
    "next_day= timegap.timegap.astype('timedelta64[h]') >= 24\n",
    "same_hour = (timegap.timegap.astype('timedelta64[h]') % 24) == 0\n",
    "\n",
    "d = timegap[next_day & same_hour]\n",
    "d.timegap.astype('timedelta64[m]').hist(bins=100)\n",
    "\n",
    "df = timegap_dataset(test_df, d, iterations=100)\n",
    "df.to_csv(\"data/test_different_day_same_hour2.csv\")"
   ]
  },
  {
   "cell_type": "code",
   "execution_count": null,
   "id": "color-sleep",
   "metadata": {},
   "outputs": [
    {
     "name": "stderr",
     "output_type": "stream",
     "text": [
      " 18%|█▊        | 18/100 [52:21<4:08:20, 181.71s/it]"
     ]
    }
   ],
   "source": [
    "next_days= timegap.timegap.astype('timedelta64[h]') >= 24\n",
    "\n",
    "d = timegap[next_days]\n",
    "d.timegap.astype('timedelta64[m]').hist(bins=100)\n",
    "\n",
    "df = timegap_dataset(test_df, d, iterations=100)\n",
    "df.to_csv(\"data/test_different_day2.csv\")"
   ]
  },
  {
   "cell_type": "code",
   "execution_count": null,
   "id": "hearing-syracuse",
   "metadata": {},
   "outputs": [],
   "source": []
  }
 ],
 "metadata": {
  "kernelspec": {
   "display_name": "bees",
   "language": "python",
   "name": "bees"
  },
  "language_info": {
   "codemirror_mode": {
    "name": "ipython",
    "version": 3
   },
   "file_extension": ".py",
   "mimetype": "text/x-python",
   "name": "python",
   "nbconvert_exporter": "python",
   "pygments_lexer": "ipython3",
   "version": "3.7.3"
  }
 },
 "nbformat": 4,
 "nbformat_minor": 5
}
