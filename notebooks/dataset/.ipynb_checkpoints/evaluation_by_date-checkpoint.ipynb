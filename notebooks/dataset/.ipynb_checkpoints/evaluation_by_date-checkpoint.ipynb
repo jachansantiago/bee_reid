{
 "cells": [
  {
   "cell_type": "markdown",
   "id": "exciting-calvin",
   "metadata": {},
   "source": [
    "# Evaluation by Date"
   ]
  },
  {
   "cell_type": "code",
   "execution_count": 26,
   "id": "developmental-password",
   "metadata": {},
   "outputs": [],
   "source": [
    "                                                                                                                                                        import os\n",
    "os.environ[\"CUDA_DEVICE_ORDER\"]=\"PCI_BUS_ID\"   # see issue #152\n",
    "os.environ[\"CUDA_VISIBLE_DEVICES\"]=\"1\"\n",
    "\n",
    "import numpy as np\n",
    "import pandas as pd\n",
    "from tqdm import tqdm\n",
    "import tensorflow as tf\n",
    "\n",
    "import matplotlib.pyplot as plt\n",
    "from ipywidgets import interact\n",
    "\n",
    "import tensorflow_addons as tfa\n",
    "from tensorflow.keras.models import load_model\n",
    "# from tensorflow_addons.losses import TripletSemiHardLoss, TripletHardLoss\n",
    "\n",
    "from beeid.utils import sensitivity_map\n",
    "\n",
    "from code.models import simple_cnnv2, ContrastiveLearning\n",
    "from code.data_utils import load_tf_pair_dataset, load_tf_dataset\n",
    "from code.viz import show_sensitivity_maps\n",
    "from code.evaluation import cmc_evaluation, plot_cmc\n",
    "from code.evaluation import get_interactive_plot_query_gallery\n",
    "from code.data_utils import filename2image\n",
    "\n",
    "IMAGE_FOLDER = \"/mnt/storage/work/jchan/normalized_uncensored_dataset/images/\"\n",
    "DATASET_CSV = \"/mnt/storage/work/jchan/body_dataset2/dataset3.csv\""
   ]
  },
  {
   "cell_type": "markdown",
   "id": "suburban-newark",
   "metadata": {},
   "source": [
    "### Prepare dataset\n",
    "\n",
    "Select the dates for Training, Validation and Testing datasets."
   ]
  },
  {
   "cell_type": "code",
   "execution_count": 7,
   "id": "devoted-slovenia",
   "metadata": {},
   "outputs": [
    {
     "data": {
      "text/plain": [
       "(3777, 1909, 3276)"
      ]
     },
     "execution_count": 7,
     "metadata": {},
     "output_type": "execute_result"
    }
   ],
   "source": [
    "def filter_dataframe(df):\n",
    "    filtered_df = df[(df.closest_bee > 300)]\n",
    "    filtered_df = filtered_df[filtered_df.abdomen_size >= 230]\n",
    "    filtered_df = filtered_df[filtered_df.abdomen_angle >= 200]\n",
    "    filtered_df = filtered_df[filtered_df.abdomen_angle <= 330]\n",
    "    filtered_df = filtered_df[filtered_df.V_mean >= 0.30]\n",
    "    return filtered_df.copy()\n",
    "\n",
    "df = pd.read_csv(DATASET_CSV)\n",
    "\n",
    "df = filter_dataframe(df)\n",
    "df= df[df.tag_id != -1.0]\n",
    "df[\"datetime2\"] = pd.to_datetime(df[\"datetime\"])\n",
    "df[\"days\"] = df[\"datetime2\"].dt.strftime(\"%Y-%m-%d\")\n",
    "df[\"global_track_id\"] = df[\"video_name\"] + \"_\" + df[\"track_id\"].apply(str)\n",
    "df[\"filename\"] = IMAGE_FOLDER + df.filename\n",
    "df[\"day_int\"] = df[\"datetime2\"].dt.strftime(\"%d\").astype(int)\n",
    "\n",
    "train_df = df[df.days <= '2019-07-23']\n",
    "valid_df = df[(df.days > '2019-07-23') & (df.days < '2019-07-25')]\n",
    "test_df = df[(df.days >= '2019-08-01') & (df.days <= '2019-08-04')]\n",
    "test_df = test_df.sort_values(\"datetime2\")\n",
    "len(train_df), len(valid_df), len(test_df)"
   ]
  },
  {
   "cell_type": "code",
   "execution_count": 11,
   "id": "defensive-healthcare",
   "metadata": {},
   "outputs": [],
   "source": [
    "periods = list()\n",
    "for tid in test_df.track_tag_id.unique():\n",
    "    sample_track_df = test_df[test_df.track_tag_id == tid]\n",
    "    gtracks = sample_track_df.groupby(\"global_track_id\").apply(lambda x: x.iloc[0]).sort_values(\"datetime2\")\n",
    "    dates = gtracks.datetime2.values\n",
    "    gtids = gtracks.global_track_id.values\n",
    "    days_int =  gtracks.day_int.values\n",
    "    for i, (gid1, d1, day1) in enumerate(zip(gtids, dates, days_int)):\n",
    "        for gid2, d2, day2 in zip(gtids[i+1:], dates[i+1:], days_int[i+1:]):\n",
    "            diff = d2 - d1\n",
    "            day_diff = day2 - day1\n",
    "            periods.append((tid, gid1, gid2, diff.astype('timedelta64[m]'), day_diff))"
   ]
  },
  {
   "cell_type": "code",
   "execution_count": 12,
   "id": "geological-bhutan",
   "metadata": {},
   "outputs": [],
   "source": [
    "timegap = pd.DataFrame(periods, columns=[\"track_tag_id\", \"gid1\", \"gid2\",  \"timegap\", \"dategap\"])"
   ]
  },
  {
   "cell_type": "code",
   "execution_count": 13,
   "id": "understood-novelty",
   "metadata": {},
   "outputs": [
    {
     "data": {
      "text/plain": [
       "<AxesSubplot:>"
      ]
     },
     "execution_count": 13,
     "metadata": {},
     "output_type": "execute_result"
    },
    {
     "data": {
      "image/png": "[encoded data removed]",
      "text/plain": [
       "<Figure size 432x288 with 1 Axes>"
      ]
     },
     "metadata": {
      "needs_background": "light"
     },
     "output_type": "display_data"
    }
   ],
   "source": [
    "greater_than_15min= timegap.timegap.astype('timedelta64[m]') > 15\n",
    "same_hour = timegap.timegap.astype('timedelta64[h]') < 1\n",
    "timegap[greater_than_15min & same_hour].timegap.astype('timedelta64[m]').hist(bins=100)"
   ]
  },
  {
   "cell_type": "code",
   "execution_count": 14,
   "id": "brown-suffering",
   "metadata": {},
   "outputs": [
    {
     "data": {
      "text/plain": [
       "<AxesSubplot:>"
      ]
     },
     "execution_count": 14,
     "metadata": {},
     "output_type": "execute_result"
    },
    {
     "data": {
      "image/png": "[encoded data removed]",
      "text/plain": [
       "<Figure size 432x288 with 1 Axes>"
      ]
     },
     "metadata": {
      "needs_background": "light"
     },
     "output_type": "display_data"
    }
   ],
   "source": [
    "greater_than_1h= timegap.timegap.astype('timedelta64[h]') > 1\n",
    "same_day = timegap.timegap.astype('timedelta64[h]') < 12\n",
    "timegap[greater_than_1h & same_day].timegap.astype('timedelta64[h]').hist(bins=100)"
   ]
  },
  {
   "cell_type": "code",
   "execution_count": 15,
   "id": "heavy-seattle",
   "metadata": {},
   "outputs": [
    {
     "data": {
      "text/plain": [
       "<AxesSubplot:>"
      ]
     },
     "execution_count": 15,
     "metadata": {},
     "output_type": "execute_result"
    },
    {
     "data": {
      "image/png": "[encoded data removed]",
      "text/plain": [
       "<Figure size 432x288 with 1 Axes>"
      ]
     },
     "metadata": {
      "needs_background": "light"
     },
     "output_type": "display_data"
    }
   ],
   "source": [
    "not_same_day= timegap.timegap.astype('timedelta64[h]') > 12\n",
    "one_day = timegap.timegap.astype('timedelta64[D]') <= 1\n",
    "timegap[not_same_day & one_day].timegap.astype('timedelta64[h]').hist(bins=100)"
   ]
  },
  {
   "cell_type": "code",
   "execution_count": 16,
   "id": "sensitive-collapse",
   "metadata": {},
   "outputs": [
    {
     "data": {
      "text/plain": [
       "<AxesSubplot:>"
      ]
     },
     "execution_count": 16,
     "metadata": {},
     "output_type": "execute_result"
    },
    {
     "data": {
      "image/png": "[encoded data removed]",
      "text/plain": [
       "<Figure size 432x288 with 1 Axes>"
      ]
     },
     "metadata": {
      "needs_background": "light"
     },
     "output_type": "display_data"
    }
   ],
   "source": [
    "not_same_day= timegap.timegap.astype('timedelta64[D]') > 1\n",
    "one_day = timegap.timegap.astype('timedelta64[D]') <= 2\n",
    "timegap[not_same_day & one_day].timegap.astype('timedelta64[h]').hist(bins=100)"
   ]
  },
  {
   "cell_type": "code",
   "execution_count": 91,
   "id": "psychological-investigator",
   "metadata": {},
   "outputs": [
    {
     "data": {
      "text/plain": [
       "<AxesSubplot:>"
      ]
     },
     "execution_count": 91,
     "metadata": {},
     "output_type": "execute_result"
    },
    {
     "data": {
      "image/png": "[encoded data removed]",
      "text/plain": [
       "<Figure size 432x288 with 1 Axes>"
      ]
     },
     "metadata": {
      "needs_background": "light"
     },
     "output_type": "display_data"
    }
   ],
   "source": [
    "not_same_day= timegap.timegap.astype('timedelta64[D]') > 2\n",
    "one_day = timegap.timegap.astype('timedelta64[D]') <= 3\n",
    "timegap[not_same_day & one_day].timegap.astype('timedelta64[h]').hist(bins=100)"
   ]
  },
  {
   "cell_type": "code",
   "execution_count": 21,
   "id": "recognized-jewel",
   "metadata": {},
   "outputs": [],
   "source": [
    "def get_timegap_query_gallery(row, query_df, dfGroupedbyTagId, limit=None):\n",
    "    query = query_df[query_df.global_track_id == row.gid1].sample().iloc[0]\n",
    "    key = query_df[query_df.global_track_id == row.gid2].sample().iloc[0]\n",
    "    \n",
    "    negatives = dfGroupedbyTagId.apply(lambda x: x.iloc[np.random.randint(len(x))])\n",
    "    different_tag = (negatives.index != row.track_tag_id)\n",
    "    negatives = negatives[different_tag]\n",
    "    \n",
    "    if limit is not None:\n",
    "        negatives = negatives.sample(limit)\n",
    "    query_gallery = np.concatenate(([query.filename, key.filename], negatives.filename.values))\n",
    "    return query_gallery"
   ]
  },
  {
   "cell_type": "code",
   "execution_count": 22,
   "id": "genetic-saudi",
   "metadata": {},
   "outputs": [
    {
     "data": {
      "text/plain": [
       "array(['/mnt/storage/work/jchan/normalized_uncensored_dataset/images/5_02_R_190803090000/000006702.jpg',\n",
       "       '/mnt/storage/work/jchan/normalized_uncensored_dataset/images/6_02_R_190803100000/000006412.jpg',\n",
       "       '/mnt/storage/work/jchan/normalized_uncensored_dataset/images/180_02_R_190802080000/000000497.jpg',\n",
       "       '/mnt/storage/work/jchan/normalized_uncensored_dataset/images/34_02_R_190804140000/000002418.jpg',\n",
       "       '/mnt/storage/work/jchan/normalized_uncensored_dataset/images/34_02_R_190804140000/000002477.jpg',\n",
       "       '/mnt/storage/work/jchan/normalized_uncensored_dataset/images/36_02_R_190804160000/000003320.jpg',\n",
       "       '/mnt/storage/work/jchan/normalized_uncensored_dataset/images/182_02_R_190802100000/000002291.jpg',\n",
       "       '/mnt/storage/work/jchan/normalized_uncensored_dataset/images/9_02_R_190803130000/000001399.jpg',\n",
       "       '/mnt/storage/work/jchan/normalized_uncensored_dataset/images/162_02_R_190801140000/000001806.jpg',\n",
       "       '/mnt/storage/work/jchan/normalized_uncensored_dataset/images/34_02_R_190804140000/000001025.jpg',\n",
       "       '/mnt/storage/work/jchan/normalized_uncensored_dataset/images/11_02_R_190803150000/000001020.jpg',\n",
       "       '/mnt/storage/work/jchan/normalized_uncensored_dataset/images/165_02_R_190801170000/000004687.jpg'],\n",
       "      dtype=object)"
      ]
     },
     "execution_count": 22,
     "metadata": {},
     "output_type": "execute_result"
    }
   ],
   "source": [
    "d = timegap[greater_than_15min & same_hour]\n",
    "\n",
    "get_timegap_query_gallery(d.iloc[0], test_df, test_df.groupby(\"track_tag_id\"), limit=10)"
   ]
  },
  {
   "cell_type": "code",
   "execution_count": 88,
   "id": "offshore-disco",
   "metadata": {},
   "outputs": [],
   "source": [
    "def timegap_dataset(df, timegap_df, iterations=100, gallery_size=10):\n",
    "    \"\"\"\n",
    "    model: keras model\n",
    "    df: a dataframe with the image to evaluate\n",
    "    \n",
    "    \"\"\"\n",
    "    cdf = df.copy()\n",
    "    dfGroupedbyTagId = cdf.groupby(\"track_tag_id\")\n",
    "    \n",
    "    ranks = np.zeros((iterations, gallery_size))\n",
    "    iteration_ids = list()\n",
    "    query_ids = list()\n",
    "    image_ids = list()\n",
    "    galleries = list()\n",
    "    for it in tqdm(range(iterations)):\n",
    "        queries_and_galleries = list()\n",
    "        for i, query_data in timegap_df.iterrows():\n",
    "            query_gallery =  get_timegap_query_gallery(query_data, cdf, dfGroupedbyTagId, limit=gallery_size)\n",
    "            queries_and_galleries.append(query_gallery)\n",
    "            \n",
    "            iteration_ids.append(np.ones(len(query_gallery)) * it)\n",
    "            query_ids.append(np.ones(len(query_gallery)) * i)\n",
    "            image_ids.append(np.arange(0, len(query_gallery)))\n",
    "            galleries.append(query_gallery)\n",
    "            \n",
    "    query_ids = np.array(query_ids).ravel().astype(int)\n",
    "    image_ids = np.array(image_ids).ravel()\n",
    "    galleries = np.array(galleries).ravel()\n",
    "    \n",
    "    df = pd.DataFrame({\"gallery_id\":query_ids, \"image_id\": image_ids,  \"filename\":galleries})\n",
    "    return df\n",
    "        \n",
    "        "
   ]
  },
  {
   "cell_type": "code",
   "execution_count": 89,
   "id": "corrected-extreme",
   "metadata": {},
   "outputs": [
    {
     "name": "stderr",
     "output_type": "stream",
     "text": [
      "100%|██████████| 10/10 [04:48<00:00, 28.87s/it]\n"
     ]
    }
   ],
   "source": [
    "df = timegap_dataset(test_df, d, iterations=10)"
   ]
  },
  {
   "cell_type": "code",
   "execution_count": 90,
   "id": "general-count",
   "metadata": {},
   "outputs": [
    {
     "data": {
      "text/html": [
       "<div>\n",
       "<style scoped>\n",
       "    .dataframe tbody tr th:only-of-type {\n",
       "        vertical-align: middle;\n",
       "    }\n",
       "\n",
       "    .dataframe tbody tr th {\n",
       "        vertical-align: top;\n",
       "    }\n",
       "\n",
       "    .dataframe thead th {\n",
       "        text-align: right;\n",
       "    }\n",
       "</style>\n",
       "<table border=\"1\" class=\"dataframe\">\n",
       "  <thead>\n",
       "    <tr style=\"text-align: right;\">\n",
       "      <th></th>\n",
       "      <th>gallery_id</th>\n",
       "      <th>image_id</th>\n",
       "      <th>filename</th>\n",
       "    </tr>\n",
       "  </thead>\n",
       "  <tbody>\n",
       "    <tr>\n",
       "      <th>0</th>\n",
       "      <td>0</td>\n",
       "      <td>0</td>\n",
       "      <td>/mnt/storage/work/jchan/normalized_uncensored_...</td>\n",
       "    </tr>\n",
       "    <tr>\n",
       "      <th>1</th>\n",
       "      <td>0</td>\n",
       "      <td>1</td>\n",
       "      <td>/mnt/storage/work/jchan/normalized_uncensored_...</td>\n",
       "    </tr>\n",
       "    <tr>\n",
       "      <th>2</th>\n",
       "      <td>0</td>\n",
       "      <td>2</td>\n",
       "      <td>/mnt/storage/work/jchan/normalized_uncensored_...</td>\n",
       "    </tr>\n",
       "    <tr>\n",
       "      <th>3</th>\n",
       "      <td>0</td>\n",
       "      <td>3</td>\n",
       "      <td>/mnt/storage/work/jchan/normalized_uncensored_...</td>\n",
       "    </tr>\n",
       "    <tr>\n",
       "      <th>4</th>\n",
       "      <td>0</td>\n",
       "      <td>4</td>\n",
       "      <td>/mnt/storage/work/jchan/normalized_uncensored_...</td>\n",
       "    </tr>\n",
       "    <tr>\n",
       "      <th>...</th>\n",
       "      <td>...</td>\n",
       "      <td>...</td>\n",
       "      <td>...</td>\n",
       "    </tr>\n",
       "    <tr>\n",
       "      <th>45595</th>\n",
       "      <td>9</td>\n",
       "      <td>7</td>\n",
       "      <td>/mnt/storage/work/jchan/normalized_uncensored_...</td>\n",
       "    </tr>\n",
       "    <tr>\n",
       "      <th>45596</th>\n",
       "      <td>9</td>\n",
       "      <td>8</td>\n",
       "      <td>/mnt/storage/work/jchan/normalized_uncensored_...</td>\n",
       "    </tr>\n",
       "    <tr>\n",
       "      <th>45597</th>\n",
       "      <td>9</td>\n",
       "      <td>9</td>\n",
       "      <td>/mnt/storage/work/jchan/normalized_uncensored_...</td>\n",
       "    </tr>\n",
       "    <tr>\n",
       "      <th>45598</th>\n",
       "      <td>9</td>\n",
       "      <td>10</td>\n",
       "      <td>/mnt/storage/work/jchan/normalized_uncensored_...</td>\n",
       "    </tr>\n",
       "    <tr>\n",
       "      <th>45599</th>\n",
       "      <td>9</td>\n",
       "      <td>11</td>\n",
       "      <td>/mnt/storage/work/jchan/normalized_uncensored_...</td>\n",
       "    </tr>\n",
       "  </tbody>\n",
       "</table>\n",
       "<p>45600 rows × 3 columns</p>\n",
       "</div>"
      ],
      "text/plain": [
       "       gallery_id  image_id                                           filename\n",
       "0               0         0  /mnt/storage/work/jchan/normalized_uncensored_...\n",
       "1               0         1  /mnt/storage/work/jchan/normalized_uncensored_...\n",
       "2               0         2  /mnt/storage/work/jchan/normalized_uncensored_...\n",
       "3               0         3  /mnt/storage/work/jchan/normalized_uncensored_...\n",
       "4               0         4  /mnt/storage/work/jchan/normalized_uncensored_...\n",
       "...           ...       ...                                                ...\n",
       "45595           9         7  /mnt/storage/work/jchan/normalized_uncensored_...\n",
       "45596           9         8  /mnt/storage/work/jchan/normalized_uncensored_...\n",
       "45597           9         9  /mnt/storage/work/jchan/normalized_uncensored_...\n",
       "45598           9        10  /mnt/storage/work/jchan/normalized_uncensored_...\n",
       "45599           9        11  /mnt/storage/work/jchan/normalized_uncensored_...\n",
       "\n",
       "[45600 rows x 3 columns]"
      ]
     },
     "execution_count": 90,
     "metadata": {},
     "output_type": "execute_result"
    }
   ],
   "source": [
    "df"
   ]
  },
  {
   "cell_type": "code",
   "execution_count": 73,
   "id": "bright-tokyo",
   "metadata": {},
   "outputs": [
    {
     "data": {
      "text/plain": [
       "((45600,), (45600,))"
      ]
     },
     "execution_count": 73,
     "metadata": {},
     "output_type": "execute_result"
    }
   ],
   "source": [
    ".shape, np.array(i).ravel().shape"
   ]
  },
  {
   "cell_type": "code",
   "execution_count": 76,
   "id": "contemporary-toner",
   "metadata": {},
   "outputs": [
    {
     "data": {
      "text/plain": [
       "(45600,)"
      ]
     },
     "execution_count": 76,
     "metadata": {},
     "output_type": "execute_result"
    }
   ],
   "source": [
    "np.array(q).ravel().shape"
   ]
  },
  {
   "cell_type": "code",
   "execution_count": 28,
   "id": "dimensional-biology",
   "metadata": {},
   "outputs": [],
   "source": [
    "def cmc_evaluation_by_date(model, df, timegap_df, iterations=100, gallery_size=10):\n",
    "    \"\"\"\n",
    "    model: keras model\n",
    "    df: a dataframe with the image to evaluate\n",
    "    \n",
    "    \"\"\"\n",
    "    cdf = df.copy()\n",
    "    dfGroupedbyTagId = cdf.groupby(\"track_tag_id\")\n",
    "    \n",
    "    ranks = np.zeros((iterations, gallery_size))\n",
    "\n",
    "    for it in tqdm(range(iterations)):\n",
    "        queries_and_galleries = list()\n",
    "        for i, query_data in timegap_df.iterrows():\n",
    "            query_gallery =  get_timegap_query_gallery(query_data, cdf, dfGroupedbyTagId, limit=gallery_size)\n",
    "            queries_and_galleries.append(query_gallery)\n",
    "\n",
    "        queries_and_galleries = np.array(queries_and_galleries).ravel()\n",
    "\n",
    "        images = filename2image(queries_and_galleries)\n",
    "        predictions = model.predict(images.batch(32))\n",
    "\n",
    "        query_gallery_size = gallery_size + 2\n",
    "        queries_emb = predictions[::query_gallery_size]\n",
    "\n",
    "        pred_idx = np.arange(0, len(predictions))\n",
    "        galleries_emb = predictions[np.mod(pred_idx, query_gallery_size) != 0]\n",
    "\n",
    "        queries_emb = queries_emb.reshape(len(timegap_df), 1, -1)\n",
    "        galleries_emb = galleries_emb.reshape(len(timegap_df), query_gallery_size - 1, -1 )\n",
    "\n",
    "        # Calucluate distance\n",
    "        cos_dist = tf.matmul(queries_emb, galleries_emb, transpose_b=True).numpy()\n",
    "        euclid_dist = -(cos_dist - 1)\n",
    "\n",
    "        # Calculate Rank\n",
    "        r = np.argmin(np.argsort(euclid_dist), axis=2)\n",
    "        r = np.squeeze(r)\n",
    "\n",
    "        for i in range(gallery_size):\n",
    "            ranks[it][i] = np.mean(r < (i + 1))\n",
    "    return np.mean(ranks, axis=0)\n",
    "\n",
    "def plot_cmc(ranks_means, filename=None, ax=None):\n",
    "    \n",
    "    if ax is None:\n",
    "        plt.figure(figsize=(20, 10))\n",
    "        ax= plt.gca()\n",
    "    \n",
    "    x = np.arange(1, len(ranks_means) + 1)\n",
    "    ax.plot(x, ranks_means, 'o', markersize=8)\n",
    "    ax.plot(x, ranks_means, 'b-', linewidth=2)\n",
    "    ax.grid(True)\n",
    "    ax.set_ylim(0.0, 1.0)\n",
    "    ax.set_yticks(np.arange(0, 1.05, 0.05));\n",
    "    ax.set_xticks(np.arange(1, len(ranks_means) + 1, 1));\n",
    "    ax.set_xlabel(\"Rank\")\n",
    "    ax.set_ylabel(\"Matching Rate %\")\n",
    "#     plt.tick_params(axis='y', which='minor', bottom=False)\n",
    "    if filename is not None:\n",
    "        plt.savefig(filename)"
   ]
  },
  {
   "cell_type": "code",
   "execution_count": 19,
   "id": "addressed-lightweight",
   "metadata": {},
   "outputs": [],
   "source": [
    "model = load_model(\"models/triplet_loss.tf\")"
   ]
  },
  {
   "cell_type": "code",
   "execution_count": 40,
   "id": "agricultural-forwarding",
   "metadata": {},
   "outputs": [
    {
     "name": "stderr",
     "output_type": "stream",
     "text": [
      "100%|██████████| 10/10 [06:07<00:00, 36.71s/it]\n"
     ]
    },
    {
     "data": {
      "image/png": "[encoded data removed]",
      "text/plain": [
       "<Figure size 1080x432 with 2 Axes>"
      ]
     },
     "metadata": {
      "needs_background": "light"
     },
     "output_type": "display_data"
    }
   ],
   "source": [
    "greater_than_15min= timegap.timegap.astype('timedelta64[m]') > 15\n",
    "same_hour = timegap.timegap.astype('timedelta64[h]') < 1\n",
    "timegap_df = timegap[greater_than_15min & same_hour]\n",
    "ranks = cmc_evaluation_by_date(model, test_df, timegap_df, iterations=10, gallery_size=10)\n",
    "\n",
    "fig, ax = plt.subplots(1, 2, figsize=(15, 6))\n",
    "timegap_df.timegap.astype('timedelta64[m]').hist(bins=100, ax=ax[0])\n",
    "plot_cmc(ranks, ax=ax[1])"
   ]
  },
  {
   "cell_type": "code",
   "execution_count": 53,
   "id": "afraid-moral",
   "metadata": {},
   "outputs": [
    {
     "name": "stderr",
     "output_type": "stream",
     "text": [
      "100%|██████████| 10/10 [03:56<00:00, 23.60s/it]\n"
     ]
    },
    {
     "data": {
      "image/png": "[encoded data removed]",
      "text/plain": [
       "<Figure size 1080x432 with 2 Axes>"
      ]
     },
     "metadata": {
      "needs_background": "light"
     },
     "output_type": "display_data"
    }
   ],
   "source": [
    "next_day= timegap.timegap.astype('timedelta64[h]') >= 24\n",
    "same_hour = (timegap.timegap.astype('timedelta64[h]') % 24) == 0\n",
    "timegap_df = timegap[next_day & same_hour]\n",
    "ranks = cmc_evaluation_by_date(model, test_df, timegap_df, iterations=10, gallery_size=10)\n",
    "\n",
    "fig, ax = plt.subplots(1, 2, figsize=(15, 6))\n",
    "timegap_df.timegap.astype('timedelta64[m]').hist(bins=100, ax=ax[0])\n",
    "plot_cmc(ranks, ax=ax[1])"
   ]
  },
  {
   "cell_type": "code",
   "execution_count": 55,
   "id": "noticed-andorra",
   "metadata": {},
   "outputs": [
    {
     "name": "stderr",
     "output_type": "stream",
     "text": [
      "100%|██████████| 10/10 [23:08<00:00, 138.81s/it]\n"
     ]
    },
    {
     "data": {
      "image/png": "[encoded data removed]",
      "text/plain": [
       "<Figure size 1080x432 with 2 Axes>"
      ]
     },
     "metadata": {
      "needs_background": "light"
     },
     "output_type": "display_data"
    }
   ],
   "source": [
    "next_days= timegap.timegap.astype('timedelta64[h]') >= 24\n",
    "timegap_df = timegap[next_days]\n",
    "ranks = cmc_evaluation_by_date(model, test_df, timegap_df, iterations=10, gallery_size=10)\n",
    "\n",
    "fig, ax = plt.subplots(1, 2, figsize=(15, 6))\n",
    "timegap_df.timegap.astype('timedelta64[m]').hist(bins=100, ax=ax[0])\n",
    "plot_cmc(ranks, ax=ax[1])"
   ]
  }
 ],
 "metadata": {
  "kernelspec": {
   "display_name": "bees",
   "language": "python",
   "name": "bees"
  },
  "language_info": {
   "codemirror_mode": {
    "name": "ipython",
    "version": 3
   },
   "file_extension": ".py",
   "mimetype": "text/x-python",
   "name": "python",
   "nbconvert_exporter": "python",
   "pygments_lexer": "ipython3",
   "version": "3.7.3"
  }
 },
 "nbformat": 4,
 "nbformat_minor": 5
}
