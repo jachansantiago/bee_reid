{
 "cells": [
  {
   "cell_type": "markdown",
   "id": "refined-insurance",
   "metadata": {},
   "source": [
    "# Dataset Stats\n",
    "\n",
    "This notebook will show statistics about both datasets the short-term and the long-term. "
   ]
  },
  {
   "cell_type": "code",
   "execution_count": 23,
   "id": "outdoor-collection",
   "metadata": {},
   "outputs": [],
   "source": [
    "import pandas as pd\n",
    "import matplotlib.pyplot as plt\n",
    "import seaborn as sns"
   ]
  },
  {
   "cell_type": "markdown",
   "id": "split-detail",
   "metadata": {},
   "source": [
    "## Long-term dataset"
   ]
  },
  {
   "cell_type": "code",
   "execution_count": 84,
   "id": "helpful-friend",
   "metadata": {},
   "outputs": [],
   "source": [
    "train_df = pd.read_csv(\"data/train.csv\")\n",
    "train_df[\"dataset\"] = \"train\"\n",
    "valid_df = pd.read_csv(\"data/valid.csv\")\n",
    "valid_df[\"dataset\"] = \"valid\"\n",
    "test_df = pd.read_csv(\"data/test.csv\")\n",
    "test_df[\"dataset\"] = \"test\"\n",
    "\n",
    "df = pd.concat([train_df, valid_df, test_df])"
   ]
  },
  {
   "cell_type": "code",
   "execution_count": 89,
   "id": "pediatric-consequence",
   "metadata": {},
   "outputs": [
    {
     "data": {
      "image/png": "[encoded data removed]",
      "text/plain": [
       "<Figure size 720x432 with 1 Axes>"
      ]
     },
     "metadata": {
      "needs_background": "light"
     },
     "output_type": "display_data"
    }
   ],
   "source": [
    "df[\"days\"] = pd.to_datetime(df[\"days\"])\n",
    "dfGrupedByDayID = df.groupby([\"days\", \"dataset\"]).apply(lambda x : len(x.track_tag_id.unique()))\n",
    "dfGrupedByDayID = dfGrupedByDayID.reset_index()\n",
    "dfGrupedByDayID.index = dfGrupedByDayID.days\n",
    "\n",
    "idx = pd.date_range('2019-07-17', '2019-08-04')\n",
    "dfGrupedByDayID = dfGrupedByDayID.reindex(idx, fill_value=0)\n",
    "\n",
    "\n",
    "dfGrupedByDayID.loc[dfGrupedByDayID.dataset == 0, \"dataset\"] = \"test\"\n",
    "\n",
    "plt.figure(figsize=(10, 6))\n",
    "ax = plt.gca()\n",
    "sns.barplot(x=dfGrupedByDayID.index, y=0, hue=\"dataset\", data=dfGrupedByDayID, ax=ax)\n",
    "x_labels = dfGrupedByDayID.index.strftime('%h %d')\n",
    "ax.set_xticklabels(x_labels, rotation=45);\n",
    "ax.set_ylabel(\"Number of Ids\")\n",
    "ax.set_title(\"Number of Ids per date.\")\n",
    "plt.tight_layout()\n",
    "plt.savefig(\"dataset_stats/nidsperday.png\")"
   ]
  },
  {
   "cell_type": "code",
   "execution_count": 107,
   "id": "solid-invasion",
   "metadata": {},
   "outputs": [
    {
     "data": {
      "text/plain": [
       "(181, 3777, 801)"
      ]
     },
     "execution_count": 107,
     "metadata": {},
     "output_type": "execute_result"
    }
   ],
   "source": [
    "len(train_df.track_tag_id.unique()), len(train_df), len(train_df.global_track_id.unique())"
   ]
  },
  {
   "cell_type": "code",
   "execution_count": 101,
   "id": "bizarre-moisture",
   "metadata": {},
   "outputs": [
    {
     "data": {
      "text/plain": [
       "4.715355805243446"
      ]
     },
     "execution_count": 101,
     "metadata": {},
     "output_type": "execute_result"
    }
   ],
   "source": [
    "train_df.groupby(\"global_track_id\").apply(lambda x: len(x)).mean()"
   ]
  },
  {
   "cell_type": "code",
   "execution_count": 104,
   "id": "assumed-johnston",
   "metadata": {},
   "outputs": [
    {
     "data": {
      "text/plain": [
       "4.425414364640884"
      ]
     },
     "execution_count": 104,
     "metadata": {},
     "output_type": "execute_result"
    }
   ],
   "source": [
    "train_df.groupby(\"track_tag_id\").apply(lambda x: len(x.global_track_id.unique())).mean()"
   ]
  },
  {
   "cell_type": "code",
   "execution_count": 108,
   "id": "creative-exploration",
   "metadata": {},
   "outputs": [
    {
     "data": {
      "text/plain": [
       "(66, 1909, 309)"
      ]
     },
     "execution_count": 108,
     "metadata": {},
     "output_type": "execute_result"
    }
   ],
   "source": [
    "len(valid_df.track_tag_id.unique()), len(valid_df), len(valid_df.global_track_id.unique())"
   ]
  },
  {
   "cell_type": "code",
   "execution_count": 102,
   "id": "worldwide-gothic",
   "metadata": {},
   "outputs": [
    {
     "data": {
      "text/plain": [
       "6.17799352750809"
      ]
     },
     "execution_count": 102,
     "metadata": {},
     "output_type": "execute_result"
    }
   ],
   "source": [
    "valid_df.groupby(\"global_track_id\").apply(lambda x: len(x)).mean()"
   ]
  },
  {
   "cell_type": "code",
   "execution_count": 105,
   "id": "interpreted-weather",
   "metadata": {},
   "outputs": [
    {
     "data": {
      "text/plain": [
       "4.681818181818182"
      ]
     },
     "execution_count": 105,
     "metadata": {},
     "output_type": "execute_result"
    }
   ],
   "source": [
    "valid_df.groupby(\"track_tag_id\").apply(lambda x: len(x.global_track_id.unique())).mean()"
   ]
  },
  {
   "cell_type": "code",
   "execution_count": 109,
   "id": "loaded-infrared",
   "metadata": {},
   "outputs": [
    {
     "data": {
      "text/plain": [
       "(126, 3276, 696)"
      ]
     },
     "execution_count": 109,
     "metadata": {},
     "output_type": "execute_result"
    }
   ],
   "source": [
    "len(test_df.track_tag_id.unique()), len(test_df), len(test_df.global_track_id.unique())"
   ]
  },
  {
   "cell_type": "code",
   "execution_count": 103,
   "id": "wound-label",
   "metadata": {},
   "outputs": [
    {
     "data": {
      "text/plain": [
       "4.706896551724138"
      ]
     },
     "execution_count": 103,
     "metadata": {},
     "output_type": "execute_result"
    }
   ],
   "source": [
    "test_df.groupby(\"global_track_id\").apply(lambda x: len(x)).mean()"
   ]
  },
  {
   "cell_type": "code",
   "execution_count": 106,
   "id": "measured-masters",
   "metadata": {},
   "outputs": [
    {
     "data": {
      "text/plain": [
       "5.523809523809524"
      ]
     },
     "execution_count": 106,
     "metadata": {},
     "output_type": "execute_result"
    }
   ],
   "source": [
    "test_df.groupby(\"track_tag_id\").apply(lambda x: len(x.global_track_id.unique())).mean()"
   ]
  },
  {
   "cell_type": "code",
   "execution_count": 90,
   "id": "proved-contributor",
   "metadata": {},
   "outputs": [
    {
     "data": {
      "image/png": "[encoded data removed]",
      "text/plain": [
       "<Figure size 720x432 with 1 Axes>"
      ]
     },
     "metadata": {
      "needs_background": "light"
     },
     "output_type": "display_data"
    }
   ],
   "source": [
    "df[\"days\"] = pd.to_datetime(df[\"days\"])\n",
    "dfGrupedByDayID = df.groupby([\"days\", \"dataset\"]).apply(lambda x : len(x.global_track_id.unique()))\n",
    "dfGrupedByDayID = dfGrupedByDayID.reset_index()\n",
    "dfGrupedByDayID.index = dfGrupedByDayID.days\n",
    "\n",
    "idx = pd.date_range('2019-07-17', '2019-08-04')\n",
    "dfGrupedByDayID = dfGrupedByDayID.reindex(idx, fill_value=0)\n",
    "\n",
    "\n",
    "dfGrupedByDayID.loc[dfGrupedByDayID.dataset == 0, \"dataset\"] = \"test\"\n",
    "\n",
    "plt.figure(figsize=(10, 6))\n",
    "ax = plt.gca()\n",
    "sns.barplot(x=dfGrupedByDayID.index, y=0, hue=\"dataset\", data=dfGrupedByDayID, ax=ax)\n",
    "x_labels = dfGrupedByDayID.index.strftime('%h %d')\n",
    "ax.set_xticklabels(x_labels, rotation=45);\n",
    "ax.set_ylabel(\"Number of tracks\")\n",
    "ax.set_title(\"Number of tracks per date.\")\n",
    "plt.tight_layout()\n",
    "plt.savefig(\"dataset_stats/ntracksperday.png\")"
   ]
  },
  {
   "cell_type": "markdown",
   "id": "expressed-lodge",
   "metadata": {},
   "source": [
    "## Short-term dataset"
   ]
  },
  {
   "cell_type": "code",
   "execution_count": 111,
   "id": "perfect-behavior",
   "metadata": {},
   "outputs": [],
   "source": [
    "utrain_df = pd.read_csv(\"data/untagged_dataset.csv\")"
   ]
  },
  {
   "cell_type": "code",
   "execution_count": 112,
   "id": "assumed-sitting",
   "metadata": {},
   "outputs": [
    {
     "data": {
      "text/plain": [
       "(109654, 4949)"
      ]
     },
     "execution_count": 112,
     "metadata": {},
     "output_type": "execute_result"
    }
   ],
   "source": [
    "len(utrain_df), len(utrain_df.global_track_id.unique())"
   ]
  },
  {
   "cell_type": "code",
   "execution_count": 113,
   "id": "corporate-strand",
   "metadata": {},
   "outputs": [
    {
     "data": {
      "text/plain": [
       "22.15679935340473"
      ]
     },
     "execution_count": 113,
     "metadata": {},
     "output_type": "execute_result"
    }
   ],
   "source": [
    "utrain_df.groupby(\"global_track_id\").apply(lambda x: len(x)).mean()"
   ]
  },
  {
   "cell_type": "code",
   "execution_count": 114,
   "id": "moved-happiness",
   "metadata": {},
   "outputs": [],
   "source": [
    "def get_track_duration(df):\n",
    "    df = df.sort_values(\"datetime\")\n",
    "    sorted_dates = df.datetime.values\n",
    "    return sorted_dates[-1] - sorted_dates[0]"
   ]
  },
  {
   "cell_type": "code",
   "execution_count": 119,
   "id": "ethical-abuse",
   "metadata": {},
   "outputs": [
    {
     "data": {
      "text/plain": [
       "(Timedelta('0 days 00:00:05.684825217'),\n",
       " Timedelta('0 days 00:01:27.500000'),\n",
       " Timedelta('0 days 00:00:01'))"
      ]
     },
     "execution_count": 119,
     "metadata": {},
     "output_type": "execute_result"
    }
   ],
   "source": [
    "utrain_df[\"datetime\"] = pd.to_datetime(utrain_df[\"datetime\"])\n",
    "tracks_durations = utrain_df.groupby(\"global_track_id\").apply(get_track_duration)\n",
    "tracks_durations.min(), tracks_durations.mean(), tracks_durations.max()"
   ]
  }
 ],
 "metadata": {
  "kernelspec": {
   "display_name": "bees",
   "language": "python",
   "name": "bees"
  },
  "language_info": {
   "codemirror_mode": {
    "name": "ipython",
    "version": 3
   },
   "file_extension": ".py",
   "mimetype": "text/x-python",
   "name": "python",
   "nbconvert_exporter": "python",
   "pygments_lexer": "ipython3",
   "version": "3.7.3"
  }
 },
 "nbformat": 4,
 "nbformat_minor": 5
}
